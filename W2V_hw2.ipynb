{
  "nbformat": 4,
  "nbformat_minor": 5,
  "metadata": {
    "kernelspec": {
      "display_name": "Python 3 (ipykernel)",
      "language": "python",
      "name": "python3"
    },
    "language_info": {
      "codemirror_mode": {
        "name": "ipython",
        "version": 3
      },
      "file_extension": ".py",
      "mimetype": "text/x-python",
      "name": "python",
      "nbconvert_exporter": "python",
      "pygments_lexer": "ipython3",
      "version": "3.9.0"
    },
    "papermill": {
      "default_parameters": {},
      "duration": 6016.446942,
      "end_time": "2021-11-21T12:55:50.963705",
      "environment_variables": {},
      "exception": null,
      "input_path": "__notebook__.ipynb",
      "output_path": "__notebook__.ipynb",
      "parameters": {},
      "start_time": "2021-11-21T11:15:34.516763",
      "version": "2.3.3"
    },
    "colab": {
      "name": "W2V_hw2.ipynb",
      "provenance": [],
      "include_colab_link": true
    }
  },
  "cells": [
    {
      "cell_type": "markdown",
      "metadata": {
        "id": "view-in-github",
        "colab_type": "text"
      },
      "source": [
        "<a href=\"https://colab.research.google.com/github/aaaksenova/ResearchSeminar_NN/blob/change/W2V_hw2.ipynb\" target=\"_parent\"><img src=\"https://colab.research.google.com/assets/colab-badge.svg\" alt=\"Open In Colab\"/></a>"
      ]
    },
    {
      "cell_type": "code",
      "metadata": {
        "execution": {
          "iopub.execute_input": "2021-11-21T11:15:42.283973Z",
          "iopub.status.busy": "2021-11-21T11:15:42.283187Z",
          "iopub.status.idle": "2021-11-21T11:15:44.569336Z",
          "shell.execute_reply": "2021-11-21T11:15:44.569955Z",
          "shell.execute_reply.started": "2021-11-21T10:28:50.9132Z"
        },
        "id": "13e94de6",
        "papermill": {
          "duration": 2.436917,
          "end_time": "2021-11-21T11:15:44.570234",
          "exception": false,
          "start_time": "2021-11-21T11:15:42.133317",
          "status": "completed"
        },
        "tags": []
      },
      "source": [
        "import json\n",
        "import random\n",
        "from tqdm import tqdm\n",
        "import numpy as np\n",
        "\n",
        "from matplotlib import pyplot as plt\n",
        "from sklearn.decomposition import TruncatedSVD\n",
        "from sklearn.manifold import TSNE\n",
        "\n",
        "import torch\n",
        "\n",
        "from pylab import rcParams\n",
        "rcParams['figure.figsize'] = 15, 15"
      ],
      "id": "13e94de6",
      "execution_count": null,
      "outputs": []
    },
    {
      "cell_type": "code",
      "metadata": {
        "execution": {
          "iopub.execute_input": "2021-11-21T11:15:44.759483Z",
          "iopub.status.busy": "2021-11-21T11:15:44.758549Z",
          "iopub.status.idle": "2021-11-21T11:15:44.760270Z",
          "shell.execute_reply": "2021-11-21T11:15:44.760724Z",
          "shell.execute_reply.started": "2021-11-21T10:28:53.315292Z"
        },
        "id": "fd1b2170",
        "papermill": {
          "duration": 0.095348,
          "end_time": "2021-11-21T11:15:44.760898",
          "exception": false,
          "start_time": "2021-11-21T11:15:44.665550",
          "status": "completed"
        },
        "tags": []
      },
      "source": [
        "def set_random_seed(seed):\n",
        "    torch.backends.cudnn.deterministic = True\n",
        "    torch.manual_seed(seed)\n",
        "    torch.cuda.manual_seed(seed)\n",
        "    np.random.seed(seed)\n",
        "    random.seed(seed)"
      ],
      "id": "fd1b2170",
      "execution_count": null,
      "outputs": []
    },
    {
      "cell_type": "markdown",
      "metadata": {
        "id": "f2d937d3",
        "papermill": {
          "duration": 0.096592,
          "end_time": "2021-11-21T11:15:44.946958",
          "exception": false,
          "start_time": "2021-11-21T11:15:44.850366",
          "status": "completed"
        },
        "tags": []
      },
      "source": [
        "# Что делать?\n",
        "Где есть пометка # CODE писать код\n",
        "\n",
        "[Полезный туториал](http://jalammar.github.io/illustrated-word2vec/)"
      ],
      "id": "f2d937d3"
    },
    {
      "cell_type": "markdown",
      "metadata": {
        "id": "56050aae",
        "papermill": {
          "duration": 0.090759,
          "end_time": "2021-11-21T11:15:45.157960",
          "exception": false,
          "start_time": "2021-11-21T11:15:45.067201",
          "status": "completed"
        },
        "tags": []
      },
      "source": [
        "# Загружаем данные\n",
        "Они уже обработанные и токенизированные. Процесс можно посмотреть в тетрадке 1.1 Processing corpus"
      ],
      "id": "56050aae"
    },
    {
      "cell_type": "code",
      "metadata": {
        "execution": {
          "iopub.execute_input": "2021-11-21T11:15:45.352223Z",
          "iopub.status.busy": "2021-11-21T11:15:45.340575Z",
          "iopub.status.idle": "2021-11-21T11:15:48.252584Z",
          "shell.execute_reply": "2021-11-21T11:15:48.251329Z",
          "shell.execute_reply.started": "2021-11-21T10:28:53.320692Z"
        },
        "id": "636b27c7",
        "papermill": {
          "duration": 3.005879,
          "end_time": "2021-11-21T11:15:48.252733",
          "exception": false,
          "start_time": "2021-11-21T11:15:45.246854",
          "status": "completed"
        },
        "tags": [],
        "outputId": "ba5c392a-0cf8-4c67-c871-381eb2bc55a2"
      },
      "source": [
        "! wget https://github.com/semensorokin/DL_for_NLP_2021/blob/year21-22/homework2/data/processed_corpus.json.zip?raw=true"
      ],
      "id": "636b27c7",
      "execution_count": null,
      "outputs": [
        {
          "name": "stdout",
          "output_type": "stream",
          "text": [
            "--2021-11-21 11:15:45--  https://github.com/semensorokin/DL_for_NLP_2021/blob/year21-22/homework2/data/processed_corpus.json.zip?raw=true\r\n",
            "Resolving github.com (github.com)... 140.82.114.3\r\n",
            "Connecting to github.com (github.com)|140.82.114.3|:443... connected.\r\n",
            "HTTP request sent, awaiting response... 302 Found\r\n",
            "Location: https://github.com/semensorokin/DL_for_NLP_2021/raw/year21-22/homework2/data/processed_corpus.json.zip [following]\r\n",
            "--2021-11-21 11:15:46--  https://github.com/semensorokin/DL_for_NLP_2021/raw/year21-22/homework2/data/processed_corpus.json.zip\r\n",
            "Reusing existing connection to github.com:443.\r\n",
            "HTTP request sent, awaiting response... 302 Found\r\n",
            "Location: https://raw.githubusercontent.com/semensorokin/DL_for_NLP_2021/year21-22/homework2/data/processed_corpus.json.zip [following]\r\n",
            "--2021-11-21 11:15:47--  https://raw.githubusercontent.com/semensorokin/DL_for_NLP_2021/year21-22/homework2/data/processed_corpus.json.zip\r\n",
            "Resolving raw.githubusercontent.com (raw.githubusercontent.com)... 185.199.108.133, 185.199.109.133, 185.199.111.133, ...\r\n",
            "Connecting to raw.githubusercontent.com (raw.githubusercontent.com)|185.199.108.133|:443... connected.\r\n",
            "HTTP request sent, awaiting response... 200 OK\r\n",
            "Length: 3052590 (2.9M) [application/zip]\r\n",
            "Saving to: ‘processed_corpus.json.zip?raw=true’\r\n",
            "\r\n",
            "processed_corpus.js 100%[===================>]   2.91M  --.-KB/s    in 0.08s   \r\n",
            "\r\n",
            "2021-11-21 11:15:48 (35.2 MB/s) - ‘processed_corpus.json.zip?raw=true’ saved [3052590/3052590]\r\n",
            "\r\n"
          ]
        }
      ]
    },
    {
      "cell_type": "code",
      "metadata": {
        "execution": {
          "iopub.execute_input": "2021-11-21T11:15:48.447464Z",
          "iopub.status.busy": "2021-11-21T11:15:48.446688Z",
          "iopub.status.idle": "2021-11-21T11:15:49.201740Z",
          "shell.execute_reply": "2021-11-21T11:15:49.200769Z",
          "shell.execute_reply.started": "2021-11-21T10:28:55.232034Z"
        },
        "id": "d1c5dece",
        "papermill": {
          "duration": 0.854579,
          "end_time": "2021-11-21T11:15:49.201924",
          "exception": false,
          "start_time": "2021-11-21T11:15:48.347345",
          "status": "completed"
        },
        "tags": [],
        "outputId": "9834bfe7-a956-4915-a17a-b3d50544d338"
      },
      "source": [
        "! unzip processed_corpus.json.zip?raw=true"
      ],
      "id": "d1c5dece",
      "execution_count": null,
      "outputs": [
        {
          "name": "stdout",
          "output_type": "stream",
          "text": [
            "Archive:  processed_corpus.json.zip?raw=true\r\n",
            "  inflating: processed_corpus.json   \r\n"
          ]
        }
      ]
    },
    {
      "cell_type": "code",
      "metadata": {
        "execution": {
          "iopub.execute_input": "2021-11-21T11:15:49.397873Z",
          "iopub.status.busy": "2021-11-21T11:15:49.396925Z",
          "iopub.status.idle": "2021-11-21T11:15:49.760401Z",
          "shell.execute_reply": "2021-11-21T11:15:49.759720Z",
          "shell.execute_reply.started": "2021-11-21T10:28:56.001083Z"
        },
        "id": "bd28db25",
        "papermill": {
          "duration": 0.462906,
          "end_time": "2021-11-21T11:15:49.760538",
          "exception": false,
          "start_time": "2021-11-21T11:15:49.297632",
          "status": "completed"
        },
        "tags": []
      },
      "source": [
        "with open('processed_corpus.json') as f:\n",
        "    corpus = json.load(f)"
      ],
      "id": "bd28db25",
      "execution_count": null,
      "outputs": []
    },
    {
      "cell_type": "code",
      "metadata": {
        "execution": {
          "iopub.execute_input": "2021-11-21T11:15:49.951986Z",
          "iopub.status.busy": "2021-11-21T11:15:49.951333Z",
          "iopub.status.idle": "2021-11-21T11:15:49.954432Z",
          "shell.execute_reply": "2021-11-21T11:15:49.954859Z",
          "shell.execute_reply.started": "2021-11-21T10:28:56.36993Z"
        },
        "id": "b559ad51",
        "papermill": {
          "duration": 0.101932,
          "end_time": "2021-11-21T11:15:49.954995",
          "exception": false,
          "start_time": "2021-11-21T11:15:49.853063",
          "status": "completed"
        },
        "tags": [],
        "outputId": "f214dd72-0b0f-4fee-db2e-55920eb90be3"
      },
      "source": [
        "len(corpus)"
      ],
      "id": "b559ad51",
      "execution_count": null,
      "outputs": [
        {
          "data": {
            "text/plain": [
              "100000"
            ]
          },
          "execution_count": 6,
          "metadata": {},
          "output_type": "execute_result"
        }
      ]
    },
    {
      "cell_type": "code",
      "metadata": {
        "execution": {
          "iopub.execute_input": "2021-11-21T11:15:50.145856Z",
          "iopub.status.busy": "2021-11-21T11:15:50.144973Z",
          "iopub.status.idle": "2021-11-21T11:15:50.148418Z",
          "shell.execute_reply": "2021-11-21T11:15:50.148922Z",
          "shell.execute_reply.started": "2021-11-21T10:28:56.379595Z"
        },
        "id": "7d76447d",
        "papermill": {
          "duration": 0.1016,
          "end_time": "2021-11-21T11:15:50.149068",
          "exception": false,
          "start_time": "2021-11-21T11:15:50.047468",
          "status": "completed"
        },
        "tags": [],
        "outputId": "763c558b-5d5b-4db6-c883-ef87b0d6863d"
      },
      "source": [
        "for text in corpus[:5]:\n",
        "    print(' '.join(text))"
      ],
      "id": "7d76447d",
      "execution_count": null,
      "outputs": [
        {
          "name": "stdout",
          "output_type": "stream",
          "text": [
            "второй UNK год окончательно разочаровать решить податься альфабанк\n",
            "вернуть денежный средство лицевой счёт либо зачесть счёт погашение кредит\n",
            "притом ситуация решиться участие течение сутки заявить\n",
            "мой ##число летний жизнь это самый неповоротливый работник банк который видеть\n",
            "везде написать вклад принимать очередь это\n"
          ]
        }
      ]
    },
    {
      "cell_type": "markdown",
      "metadata": {
        "id": "928c48d5",
        "papermill": {
          "duration": 0.093127,
          "end_time": "2021-11-21T11:15:50.336537",
          "exception": false,
          "start_time": "2021-11-21T11:15:50.243410",
          "status": "completed"
        },
        "tags": []
      },
      "source": [
        "# CBOW"
      ],
      "id": "928c48d5"
    },
    {
      "cell_type": "code",
      "metadata": {
        "execution": {
          "iopub.execute_input": "2021-11-21T11:15:50.525222Z",
          "iopub.status.busy": "2021-11-21T11:15:50.524488Z",
          "iopub.status.idle": "2021-11-21T11:15:50.526750Z",
          "shell.execute_reply": "2021-11-21T11:15:50.527231Z",
          "shell.execute_reply.started": "2021-11-21T10:28:56.391626Z"
        },
        "id": "6f8797e7",
        "papermill": {
          "duration": 0.098273,
          "end_time": "2021-11-21T11:15:50.527367",
          "exception": false,
          "start_time": "2021-11-21T11:15:50.429094",
          "status": "completed"
        },
        "tags": []
      },
      "source": [
        "sample_text = corpus[1]"
      ],
      "id": "6f8797e7",
      "execution_count": null,
      "outputs": []
    },
    {
      "cell_type": "code",
      "metadata": {
        "execution": {
          "iopub.execute_input": "2021-11-21T11:15:50.716565Z",
          "iopub.status.busy": "2021-11-21T11:15:50.715958Z",
          "iopub.status.idle": "2021-11-21T11:15:50.718653Z",
          "shell.execute_reply": "2021-11-21T11:15:50.719091Z",
          "shell.execute_reply.started": "2021-11-21T10:28:56.399302Z"
        },
        "id": "75377c14",
        "papermill": {
          "duration": 0.10034,
          "end_time": "2021-11-21T11:15:50.719229",
          "exception": false,
          "start_time": "2021-11-21T11:15:50.618889",
          "status": "completed"
        },
        "tags": [],
        "outputId": "74b91a0b-c803-419d-90a8-ab0781456540"
      },
      "source": [
        "' '.join(sample_text)"
      ],
      "id": "75377c14",
      "execution_count": null,
      "outputs": [
        {
          "data": {
            "text/plain": [
              "'вернуть денежный средство лицевой счёт либо зачесть счёт погашение кредит'"
            ]
          },
          "execution_count": 9,
          "metadata": {},
          "output_type": "execute_result"
        }
      ]
    },
    {
      "cell_type": "markdown",
      "metadata": {
        "id": "c85c714e",
        "papermill": {
          "duration": 0.093846,
          "end_time": "2021-11-21T11:15:50.905245",
          "exception": false,
          "start_time": "2021-11-21T11:15:50.811399",
          "status": "completed"
        },
        "tags": []
      },
      "source": [
        "# Реализуйте разделение предложения на примеры методом CBOW"
      ],
      "id": "c85c714e"
    },
    {
      "cell_type": "code",
      "metadata": {
        "execution": {
          "iopub.execute_input": "2021-11-21T11:15:51.097512Z",
          "iopub.status.busy": "2021-11-21T11:15:51.096646Z",
          "iopub.status.idle": "2021-11-21T11:15:51.102632Z",
          "shell.execute_reply": "2021-11-21T11:15:51.102220Z",
          "shell.execute_reply.started": "2021-11-21T10:28:56.413323Z"
        },
        "id": "ca15df25",
        "papermill": {
          "duration": 0.102816,
          "end_time": "2021-11-21T11:15:51.102748",
          "exception": false,
          "start_time": "2021-11-21T11:15:50.999932",
          "status": "completed"
        },
        "tags": []
      },
      "source": [
        "def cbow_split(tokens, window, pad_token='PAD'):\n",
        "    \n",
        "    splits = []  \n",
        "    tokens_padded = [\"PAD\"] * window + tokens + [\"PAD\"] * window\n",
        "\n",
        "    for i in range(len(tokens_padded))[window:-window]:\n",
        "        splits.append((tokens_padded[i-window: i], tokens_padded[i], tokens_padded[i+1: i+window+1]))\n",
        "        \n",
        "    return splits"
      ],
      "id": "ca15df25",
      "execution_count": null,
      "outputs": []
    },
    {
      "cell_type": "code",
      "metadata": {
        "execution": {
          "iopub.execute_input": "2021-11-21T11:15:51.297763Z",
          "iopub.status.busy": "2021-11-21T11:15:51.296923Z",
          "iopub.status.idle": "2021-11-21T11:15:51.298985Z",
          "shell.execute_reply": "2021-11-21T11:15:51.299397Z",
          "shell.execute_reply.started": "2021-11-21T10:28:56.422654Z"
        },
        "id": "5c30a491",
        "papermill": {
          "duration": 0.102368,
          "end_time": "2021-11-21T11:15:51.299536",
          "exception": false,
          "start_time": "2021-11-21T11:15:51.197168",
          "status": "completed"
        },
        "tags": []
      },
      "source": [
        "splits = cbow_split(sample_text, window=2)"
      ],
      "id": "5c30a491",
      "execution_count": null,
      "outputs": []
    },
    {
      "cell_type": "code",
      "metadata": {
        "execution": {
          "iopub.execute_input": "2021-11-21T11:15:51.491928Z",
          "iopub.status.busy": "2021-11-21T11:15:51.491091Z",
          "iopub.status.idle": "2021-11-21T11:15:51.500568Z",
          "shell.execute_reply": "2021-11-21T11:15:51.501135Z",
          "shell.execute_reply.started": "2021-11-21T10:28:56.430531Z"
        },
        "id": "ecfa29fc",
        "papermill": {
          "duration": 0.109116,
          "end_time": "2021-11-21T11:15:51.501318",
          "exception": false,
          "start_time": "2021-11-21T11:15:51.392202",
          "status": "completed"
        },
        "tags": [],
        "outputId": "ffd0938a-f4af-4137-c688-eb8e84feb539"
      },
      "source": [
        "for sample in splits:\n",
        "    print('Левый контекст:', sample[0])\n",
        "    print('Центральное слово:', sample[1])\n",
        "    print('Правый контекст:', sample[2], end='\\n\\n')"
      ],
      "id": "ecfa29fc",
      "execution_count": null,
      "outputs": [
        {
          "name": "stdout",
          "output_type": "stream",
          "text": [
            "Левый контекст: ['PAD', 'PAD']\n",
            "Центральное слово: вернуть\n",
            "Правый контекст: ['денежный', 'средство']\n",
            "\n",
            "Левый контекст: ['PAD', 'вернуть']\n",
            "Центральное слово: денежный\n",
            "Правый контекст: ['средство', 'лицевой']\n",
            "\n",
            "Левый контекст: ['вернуть', 'денежный']\n",
            "Центральное слово: средство\n",
            "Правый контекст: ['лицевой', 'счёт']\n",
            "\n",
            "Левый контекст: ['денежный', 'средство']\n",
            "Центральное слово: лицевой\n",
            "Правый контекст: ['счёт', 'либо']\n",
            "\n",
            "Левый контекст: ['средство', 'лицевой']\n",
            "Центральное слово: счёт\n",
            "Правый контекст: ['либо', 'зачесть']\n",
            "\n",
            "Левый контекст: ['лицевой', 'счёт']\n",
            "Центральное слово: либо\n",
            "Правый контекст: ['зачесть', 'счёт']\n",
            "\n",
            "Левый контекст: ['счёт', 'либо']\n",
            "Центральное слово: зачесть\n",
            "Правый контекст: ['счёт', 'погашение']\n",
            "\n",
            "Левый контекст: ['либо', 'зачесть']\n",
            "Центральное слово: счёт\n",
            "Правый контекст: ['погашение', 'кредит']\n",
            "\n",
            "Левый контекст: ['зачесть', 'счёт']\n",
            "Центральное слово: погашение\n",
            "Правый контекст: ['кредит', 'PAD']\n",
            "\n",
            "Левый контекст: ['счёт', 'погашение']\n",
            "Центральное слово: кредит\n",
            "Правый контекст: ['PAD', 'PAD']\n",
            "\n"
          ]
        }
      ]
    },
    {
      "cell_type": "code",
      "metadata": {
        "execution": {
          "iopub.execute_input": "2021-11-21T11:15:51.695090Z",
          "iopub.status.busy": "2021-11-21T11:15:51.694365Z",
          "iopub.status.idle": "2021-11-21T11:15:51.697189Z",
          "shell.execute_reply": "2021-11-21T11:15:51.697594Z",
          "shell.execute_reply.started": "2021-11-21T10:28:56.449105Z"
        },
        "id": "18788b7b",
        "papermill": {
          "duration": 0.102745,
          "end_time": "2021-11-21T11:15:51.697724",
          "exception": false,
          "start_time": "2021-11-21T11:15:51.594979",
          "status": "completed"
        },
        "tags": [],
        "outputId": "c5eba7c5-48a5-4290-e523-e80bde81e5e7"
      },
      "source": [
        "splits"
      ],
      "id": "18788b7b",
      "execution_count": null,
      "outputs": [
        {
          "data": {
            "text/plain": [
              "[(['PAD', 'PAD'], 'вернуть', ['денежный', 'средство']),\n",
              " (['PAD', 'вернуть'], 'денежный', ['средство', 'лицевой']),\n",
              " (['вернуть', 'денежный'], 'средство', ['лицевой', 'счёт']),\n",
              " (['денежный', 'средство'], 'лицевой', ['счёт', 'либо']),\n",
              " (['средство', 'лицевой'], 'счёт', ['либо', 'зачесть']),\n",
              " (['лицевой', 'счёт'], 'либо', ['зачесть', 'счёт']),\n",
              " (['счёт', 'либо'], 'зачесть', ['счёт', 'погашение']),\n",
              " (['либо', 'зачесть'], 'счёт', ['погашение', 'кредит']),\n",
              " (['зачесть', 'счёт'], 'погашение', ['кредит', 'PAD']),\n",
              " (['счёт', 'погашение'], 'кредит', ['PAD', 'PAD'])]"
            ]
          },
          "execution_count": 13,
          "metadata": {},
          "output_type": "execute_result"
        }
      ]
    },
    {
      "cell_type": "markdown",
      "metadata": {
        "id": "b4dc47e3",
        "papermill": {
          "duration": 0.092821,
          "end_time": "2021-11-21T11:15:51.883462",
          "exception": false,
          "start_time": "2021-11-21T11:15:51.790641",
          "status": "completed"
        },
        "tags": []
      },
      "source": [
        "# Expected\n",
        "\n",
        "```python\n",
        "[(['PAD', 'PAD'], 'вопрос', ['почему', 'например']),\n",
        " (['PAD', 'вопрос'], 'почему', ['например', 'китайский']),\n",
        " (['вопрос', 'почему'], 'например', ['китайский', 'японский']),\n",
        " (['почему', 'например'], 'китайский', ['японский', 'UNK']),\n",
        " (['например', 'китайский'], 'японский', ['UNK', 'PAD']),\n",
        " (['китайский', 'японский'], 'UNK', ['PAD', 'PAD'])]\n",
        "```"
      ],
      "id": "b4dc47e3"
    },
    {
      "cell_type": "code",
      "metadata": {
        "execution": {
          "iopub.execute_input": "2021-11-21T11:15:52.077066Z",
          "iopub.status.busy": "2021-11-21T11:15:52.076412Z",
          "iopub.status.idle": "2021-11-21T11:15:52.079196Z",
          "shell.execute_reply": "2021-11-21T11:15:52.079606Z",
          "shell.execute_reply.started": "2021-11-21T10:28:56.463176Z"
        },
        "id": "280b94fc",
        "papermill": {
          "duration": 0.103277,
          "end_time": "2021-11-21T11:15:52.079743",
          "exception": false,
          "start_time": "2021-11-21T11:15:51.976466",
          "status": "completed"
        },
        "tags": [],
        "outputId": "c3d2b7d8-6124-4312-f894-4a30da88fcea"
      },
      "source": [
        "cbow_split(sample_text, window=3)"
      ],
      "id": "280b94fc",
      "execution_count": null,
      "outputs": [
        {
          "data": {
            "text/plain": [
              "[(['PAD', 'PAD', 'PAD'], 'вернуть', ['денежный', 'средство', 'лицевой']),\n",
              " (['PAD', 'PAD', 'вернуть'], 'денежный', ['средство', 'лицевой', 'счёт']),\n",
              " (['PAD', 'вернуть', 'денежный'], 'средство', ['лицевой', 'счёт', 'либо']),\n",
              " (['вернуть', 'денежный', 'средство'], 'лицевой', ['счёт', 'либо', 'зачесть']),\n",
              " (['денежный', 'средство', 'лицевой'], 'счёт', ['либо', 'зачесть', 'счёт']),\n",
              " (['средство', 'лицевой', 'счёт'], 'либо', ['зачесть', 'счёт', 'погашение']),\n",
              " (['лицевой', 'счёт', 'либо'], 'зачесть', ['счёт', 'погашение', 'кредит']),\n",
              " (['счёт', 'либо', 'зачесть'], 'счёт', ['погашение', 'кредит', 'PAD']),\n",
              " (['либо', 'зачесть', 'счёт'], 'погашение', ['кредит', 'PAD', 'PAD']),\n",
              " (['зачесть', 'счёт', 'погашение'], 'кредит', ['PAD', 'PAD', 'PAD'])]"
            ]
          },
          "execution_count": 14,
          "metadata": {},
          "output_type": "execute_result"
        }
      ]
    },
    {
      "cell_type": "markdown",
      "metadata": {
        "id": "f7af9b02",
        "papermill": {
          "duration": 0.096003,
          "end_time": "2021-11-21T11:15:52.269886",
          "exception": false,
          "start_time": "2021-11-21T11:15:52.173883",
          "status": "completed"
        },
        "tags": []
      },
      "source": [
        "# Expected\n",
        "\n",
        "```python\n",
        "[(['PAD', 'PAD', 'PAD'], 'вопрос', ['почему', 'например', 'китайский']),\n",
        " (['PAD', 'PAD', 'вопрос'], 'почему', ['например', 'китайский', 'японский']),\n",
        " (['PAD', 'вопрос', 'почему'], 'например', ['китайский', 'японский', 'UNK']),\n",
        " (['вопрос', 'почему', 'например'], 'китайский', ['японский', 'UNK', 'PAD']),\n",
        " (['почему', 'например', 'китайский'], 'японский', ['UNK', 'PAD', 'PAD']),\n",
        " (['например', 'китайский', 'японский'], 'UNK', ['PAD', 'PAD', 'PAD'])]\n",
        "```"
      ],
      "id": "f7af9b02"
    },
    {
      "cell_type": "markdown",
      "metadata": {
        "id": "3204b366",
        "papermill": {
          "duration": 0.092876,
          "end_time": "2021-11-21T11:15:52.456901",
          "exception": false,
          "start_time": "2021-11-21T11:15:52.364025",
          "status": "completed"
        },
        "tags": []
      },
      "source": [
        "# Skipgram"
      ],
      "id": "3204b366"
    },
    {
      "cell_type": "code",
      "metadata": {
        "execution": {
          "iopub.execute_input": "2021-11-21T11:15:52.647719Z",
          "iopub.status.busy": "2021-11-21T11:15:52.647080Z",
          "iopub.status.idle": "2021-11-21T11:15:52.649761Z",
          "shell.execute_reply": "2021-11-21T11:15:52.650213Z",
          "shell.execute_reply.started": "2021-11-21T10:28:56.472478Z"
        },
        "id": "09474abf",
        "papermill": {
          "duration": 0.100504,
          "end_time": "2021-11-21T11:15:52.650346",
          "exception": false,
          "start_time": "2021-11-21T11:15:52.549842",
          "status": "completed"
        },
        "tags": [],
        "outputId": "bc24298a-1e43-4d17-aab4-e1d20c9d1013"
      },
      "source": [
        "' '.join(sample_text)"
      ],
      "id": "09474abf",
      "execution_count": null,
      "outputs": [
        {
          "data": {
            "text/plain": [
              "'вернуть денежный средство лицевой счёт либо зачесть счёт погашение кредит'"
            ]
          },
          "execution_count": 15,
          "metadata": {},
          "output_type": "execute_result"
        }
      ]
    },
    {
      "cell_type": "markdown",
      "metadata": {
        "id": "6fa91dfc",
        "papermill": {
          "duration": 0.094381,
          "end_time": "2021-11-21T11:15:52.839159",
          "exception": false,
          "start_time": "2021-11-21T11:15:52.744778",
          "status": "completed"
        },
        "tags": []
      },
      "source": [
        "# Реализуйте разделение предложения на примеры методом Skipgram"
      ],
      "id": "6fa91dfc"
    },
    {
      "cell_type": "code",
      "metadata": {
        "execution": {
          "iopub.execute_input": "2021-11-21T11:15:53.034073Z",
          "iopub.status.busy": "2021-11-21T11:15:53.033107Z",
          "iopub.status.idle": "2021-11-21T11:15:53.035011Z",
          "shell.execute_reply": "2021-11-21T11:15:53.035460Z",
          "shell.execute_reply.started": "2021-11-21T10:28:56.484073Z"
        },
        "id": "d58021b6",
        "papermill": {
          "duration": 0.102786,
          "end_time": "2021-11-21T11:15:53.035611",
          "exception": false,
          "start_time": "2021-11-21T11:15:52.932825",
          "status": "completed"
        },
        "tags": []
      },
      "source": [
        "def skipgram_split(tokens, window):\n",
        "    \n",
        "    splits = []\n",
        "    \n",
        "    for i in range(len(tokens)):\n",
        "        for j in range(window + 1)[:0:-1]:\n",
        "            if j > i:\n",
        "                continue\n",
        "            splits.append((tokens[i-j], tokens[i]))\n",
        "        for j in range(window + 1)[1:]:\n",
        "            if i + j > len(tokens) - 1:\n",
        "                break\n",
        "            splits.append((tokens[i+j], tokens[i]))\n",
        "    \n",
        "    return splits"
      ],
      "id": "d58021b6",
      "execution_count": null,
      "outputs": []
    },
    {
      "cell_type": "code",
      "metadata": {
        "execution": {
          "iopub.execute_input": "2021-11-21T11:15:53.233162Z",
          "iopub.status.busy": "2021-11-21T11:15:53.232468Z",
          "iopub.status.idle": "2021-11-21T11:15:53.235279Z",
          "shell.execute_reply": "2021-11-21T11:15:53.235876Z",
          "shell.execute_reply.started": "2021-11-21T10:28:56.493206Z"
        },
        "id": "30dc0561",
        "papermill": {
          "duration": 0.10629,
          "end_time": "2021-11-21T11:15:53.236048",
          "exception": false,
          "start_time": "2021-11-21T11:15:53.129758",
          "status": "completed"
        },
        "tags": [],
        "outputId": "9e69f206-043b-4a7b-f1e1-e80d45a867db"
      },
      "source": [
        "'012345'[:0:-1]"
      ],
      "id": "30dc0561",
      "execution_count": null,
      "outputs": [
        {
          "data": {
            "text/plain": [
              "'54321'"
            ]
          },
          "execution_count": 17,
          "metadata": {},
          "output_type": "execute_result"
        }
      ]
    },
    {
      "cell_type": "code",
      "metadata": {
        "execution": {
          "iopub.execute_input": "2021-11-21T11:15:53.434884Z",
          "iopub.status.busy": "2021-11-21T11:15:53.433995Z",
          "iopub.status.idle": "2021-11-21T11:15:53.435890Z",
          "shell.execute_reply": "2021-11-21T11:15:53.436341Z",
          "shell.execute_reply.started": "2021-11-21T10:28:56.505049Z"
        },
        "id": "f095b6eb",
        "papermill": {
          "duration": 0.102934,
          "end_time": "2021-11-21T11:15:53.436476",
          "exception": false,
          "start_time": "2021-11-21T11:15:53.333542",
          "status": "completed"
        },
        "tags": []
      },
      "source": [
        "splits = skipgram_split(sample_text, window=2)"
      ],
      "id": "f095b6eb",
      "execution_count": null,
      "outputs": []
    },
    {
      "cell_type": "code",
      "metadata": {
        "execution": {
          "iopub.execute_input": "2021-11-21T11:15:53.633321Z",
          "iopub.status.busy": "2021-11-21T11:15:53.631317Z",
          "iopub.status.idle": "2021-11-21T11:15:53.654187Z",
          "shell.execute_reply": "2021-11-21T11:15:53.653478Z",
          "shell.execute_reply.started": "2021-11-21T10:28:56.511868Z"
        },
        "id": "5f8319c9",
        "papermill": {
          "duration": 0.123172,
          "end_time": "2021-11-21T11:15:53.654363",
          "exception": false,
          "start_time": "2021-11-21T11:15:53.531191",
          "status": "completed"
        },
        "tags": [],
        "outputId": "edfc2a45-8672-40ec-f043-7cd96bf9457b"
      },
      "source": [
        "for sample in splits:\n",
        "    print('Контекст:', sample[0])\n",
        "    print('Центральное слово:', sample[1], end='\\n\\n')"
      ],
      "id": "5f8319c9",
      "execution_count": null,
      "outputs": [
        {
          "name": "stdout",
          "output_type": "stream",
          "text": [
            "Контекст: денежный\n",
            "Центральное слово: вернуть\n",
            "\n",
            "Контекст: средство\n",
            "Центральное слово: вернуть\n",
            "\n",
            "Контекст: вернуть\n",
            "Центральное слово: денежный\n",
            "\n",
            "Контекст: средство\n",
            "Центральное слово: денежный\n",
            "\n",
            "Контекст: лицевой\n",
            "Центральное слово: денежный\n",
            "\n",
            "Контекст: вернуть\n",
            "Центральное слово: средство\n",
            "\n",
            "Контекст: денежный\n",
            "Центральное слово: средство\n",
            "\n",
            "Контекст: лицевой\n",
            "Центральное слово: средство\n",
            "\n",
            "Контекст: счёт\n",
            "Центральное слово: средство\n",
            "\n",
            "Контекст: денежный\n",
            "Центральное слово: лицевой\n",
            "\n",
            "Контекст: средство\n",
            "Центральное слово: лицевой\n",
            "\n",
            "Контекст: счёт\n",
            "Центральное слово: лицевой\n",
            "\n",
            "Контекст: либо\n",
            "Центральное слово: лицевой\n",
            "\n",
            "Контекст: средство\n",
            "Центральное слово: счёт\n",
            "\n",
            "Контекст: лицевой\n",
            "Центральное слово: счёт\n",
            "\n",
            "Контекст: либо\n",
            "Центральное слово: счёт\n",
            "\n",
            "Контекст: зачесть\n",
            "Центральное слово: счёт\n",
            "\n",
            "Контекст: лицевой\n",
            "Центральное слово: либо\n",
            "\n",
            "Контекст: счёт\n",
            "Центральное слово: либо\n",
            "\n",
            "Контекст: зачесть\n",
            "Центральное слово: либо\n",
            "\n",
            "Контекст: счёт\n",
            "Центральное слово: либо\n",
            "\n",
            "Контекст: счёт\n",
            "Центральное слово: зачесть\n",
            "\n",
            "Контекст: либо\n",
            "Центральное слово: зачесть\n",
            "\n",
            "Контекст: счёт\n",
            "Центральное слово: зачесть\n",
            "\n",
            "Контекст: погашение\n",
            "Центральное слово: зачесть\n",
            "\n",
            "Контекст: либо\n",
            "Центральное слово: счёт\n",
            "\n",
            "Контекст: зачесть\n",
            "Центральное слово: счёт\n",
            "\n",
            "Контекст: погашение\n",
            "Центральное слово: счёт\n",
            "\n",
            "Контекст: кредит\n",
            "Центральное слово: счёт\n",
            "\n",
            "Контекст: зачесть\n",
            "Центральное слово: погашение\n",
            "\n",
            "Контекст: счёт\n",
            "Центральное слово: погашение\n",
            "\n",
            "Контекст: кредит\n",
            "Центральное слово: погашение\n",
            "\n",
            "Контекст: счёт\n",
            "Центральное слово: кредит\n",
            "\n",
            "Контекст: погашение\n",
            "Центральное слово: кредит\n",
            "\n"
          ]
        }
      ]
    },
    {
      "cell_type": "code",
      "metadata": {
        "execution": {
          "iopub.execute_input": "2021-11-21T11:15:53.852853Z",
          "iopub.status.busy": "2021-11-21T11:15:53.852170Z",
          "iopub.status.idle": "2021-11-21T11:15:53.855068Z",
          "shell.execute_reply": "2021-11-21T11:15:53.855488Z",
          "shell.execute_reply.started": "2021-11-21T10:28:56.536422Z"
        },
        "id": "97abb180",
        "papermill": {
          "duration": 0.104102,
          "end_time": "2021-11-21T11:15:53.855623",
          "exception": false,
          "start_time": "2021-11-21T11:15:53.751521",
          "status": "completed"
        },
        "tags": [],
        "outputId": "b08a2470-d3be-467a-8829-f72d034d7949"
      },
      "source": [
        "skipgram_split(sample_text, window=2)"
      ],
      "id": "97abb180",
      "execution_count": null,
      "outputs": [
        {
          "data": {
            "text/plain": [
              "[('денежный', 'вернуть'),\n",
              " ('средство', 'вернуть'),\n",
              " ('вернуть', 'денежный'),\n",
              " ('средство', 'денежный'),\n",
              " ('лицевой', 'денежный'),\n",
              " ('вернуть', 'средство'),\n",
              " ('денежный', 'средство'),\n",
              " ('лицевой', 'средство'),\n",
              " ('счёт', 'средство'),\n",
              " ('денежный', 'лицевой'),\n",
              " ('средство', 'лицевой'),\n",
              " ('счёт', 'лицевой'),\n",
              " ('либо', 'лицевой'),\n",
              " ('средство', 'счёт'),\n",
              " ('лицевой', 'счёт'),\n",
              " ('либо', 'счёт'),\n",
              " ('зачесть', 'счёт'),\n",
              " ('лицевой', 'либо'),\n",
              " ('счёт', 'либо'),\n",
              " ('зачесть', 'либо'),\n",
              " ('счёт', 'либо'),\n",
              " ('счёт', 'зачесть'),\n",
              " ('либо', 'зачесть'),\n",
              " ('счёт', 'зачесть'),\n",
              " ('погашение', 'зачесть'),\n",
              " ('либо', 'счёт'),\n",
              " ('зачесть', 'счёт'),\n",
              " ('погашение', 'счёт'),\n",
              " ('кредит', 'счёт'),\n",
              " ('зачесть', 'погашение'),\n",
              " ('счёт', 'погашение'),\n",
              " ('кредит', 'погашение'),\n",
              " ('счёт', 'кредит'),\n",
              " ('погашение', 'кредит')]"
            ]
          },
          "execution_count": 20,
          "metadata": {},
          "output_type": "execute_result"
        }
      ]
    },
    {
      "cell_type": "markdown",
      "metadata": {
        "id": "ed6d6cf6",
        "papermill": {
          "duration": 0.105352,
          "end_time": "2021-11-21T11:15:54.056620",
          "exception": false,
          "start_time": "2021-11-21T11:15:53.951268",
          "status": "completed"
        },
        "tags": []
      },
      "source": [
        "# Expected\n",
        "\n",
        "```python\n",
        "[('почему', 'вопрос'),\n",
        " ('например', 'вопрос'),\n",
        " ('вопрос', 'почему'),\n",
        " ('например', 'почему'),\n",
        " ('китайский', 'почему'),\n",
        " ('вопрос', 'например'),\n",
        " ('почему', 'например'),\n",
        " ('китайский', 'например'),\n",
        " ('японский', 'например'),\n",
        " ('почему', 'китайский'),\n",
        " ('например', 'китайский'),\n",
        " ('японский', 'китайский'),\n",
        " ('UNK', 'китайский'),\n",
        " ('например', 'японский'),\n",
        " ('китайский', 'японский'),\n",
        " ('UNK', 'японский'),\n",
        " ('китайский', 'UNK'),\n",
        " ('японский', 'UNK')]\n",
        "```"
      ],
      "id": "ed6d6cf6"
    },
    {
      "cell_type": "code",
      "metadata": {
        "execution": {
          "iopub.execute_input": "2021-11-21T11:15:54.255491Z",
          "iopub.status.busy": "2021-11-21T11:15:54.254831Z",
          "iopub.status.idle": "2021-11-21T11:15:54.257561Z",
          "shell.execute_reply": "2021-11-21T11:15:54.257997Z",
          "shell.execute_reply.started": "2021-11-21T10:28:56.544853Z"
        },
        "id": "9afdaa4f",
        "papermill": {
          "duration": 0.106947,
          "end_time": "2021-11-21T11:15:54.258146",
          "exception": false,
          "start_time": "2021-11-21T11:15:54.151199",
          "status": "completed"
        },
        "tags": [],
        "outputId": "d94513d9-1073-4567-9b21-f399e17da6c6"
      },
      "source": [
        "skipgram_split(sample_text, window=3)"
      ],
      "id": "9afdaa4f",
      "execution_count": null,
      "outputs": [
        {
          "data": {
            "text/plain": [
              "[('денежный', 'вернуть'),\n",
              " ('средство', 'вернуть'),\n",
              " ('лицевой', 'вернуть'),\n",
              " ('вернуть', 'денежный'),\n",
              " ('средство', 'денежный'),\n",
              " ('лицевой', 'денежный'),\n",
              " ('счёт', 'денежный'),\n",
              " ('вернуть', 'средство'),\n",
              " ('денежный', 'средство'),\n",
              " ('лицевой', 'средство'),\n",
              " ('счёт', 'средство'),\n",
              " ('либо', 'средство'),\n",
              " ('вернуть', 'лицевой'),\n",
              " ('денежный', 'лицевой'),\n",
              " ('средство', 'лицевой'),\n",
              " ('счёт', 'лицевой'),\n",
              " ('либо', 'лицевой'),\n",
              " ('зачесть', 'лицевой'),\n",
              " ('денежный', 'счёт'),\n",
              " ('средство', 'счёт'),\n",
              " ('лицевой', 'счёт'),\n",
              " ('либо', 'счёт'),\n",
              " ('зачесть', 'счёт'),\n",
              " ('счёт', 'счёт'),\n",
              " ('средство', 'либо'),\n",
              " ('лицевой', 'либо'),\n",
              " ('счёт', 'либо'),\n",
              " ('зачесть', 'либо'),\n",
              " ('счёт', 'либо'),\n",
              " ('погашение', 'либо'),\n",
              " ('лицевой', 'зачесть'),\n",
              " ('счёт', 'зачесть'),\n",
              " ('либо', 'зачесть'),\n",
              " ('счёт', 'зачесть'),\n",
              " ('погашение', 'зачесть'),\n",
              " ('кредит', 'зачесть'),\n",
              " ('счёт', 'счёт'),\n",
              " ('либо', 'счёт'),\n",
              " ('зачесть', 'счёт'),\n",
              " ('погашение', 'счёт'),\n",
              " ('кредит', 'счёт'),\n",
              " ('либо', 'погашение'),\n",
              " ('зачесть', 'погашение'),\n",
              " ('счёт', 'погашение'),\n",
              " ('кредит', 'погашение'),\n",
              " ('зачесть', 'кредит'),\n",
              " ('счёт', 'кредит'),\n",
              " ('погашение', 'кредит')]"
            ]
          },
          "execution_count": 21,
          "metadata": {},
          "output_type": "execute_result"
        }
      ]
    },
    {
      "cell_type": "markdown",
      "metadata": {
        "id": "3d4ffdee",
        "papermill": {
          "duration": 0.094989,
          "end_time": "2021-11-21T11:15:54.449140",
          "exception": false,
          "start_time": "2021-11-21T11:15:54.354151",
          "status": "completed"
        },
        "tags": []
      },
      "source": [
        "# Expected\n",
        "\n",
        "```python\n",
        "[('почему', 'вопрос'),\n",
        " ('например', 'вопрос'),\n",
        " ('китайский', 'вопрос'),\n",
        " ('вопрос', 'почему'),\n",
        " ('например', 'почему'),\n",
        " ('китайский', 'почему'),\n",
        " ('японский', 'почему'),\n",
        " ('вопрос', 'например'),\n",
        " ('почему', 'например'),\n",
        " ('китайский', 'например'),\n",
        " ('японский', 'например'),\n",
        " ('UNK', 'например'),\n",
        " ('вопрос', 'китайский'),\n",
        " ('почему', 'китайский'),\n",
        " ('например', 'китайский'),\n",
        " ('японский', 'китайский'),\n",
        " ('UNK', 'китайский'),\n",
        " ('почему', 'японский'),\n",
        " ('например', 'японский'),\n",
        " ('китайский', 'японский'),\n",
        " ('UNK', 'японский'),\n",
        " ('например', 'UNK'),\n",
        " ('китайский', 'UNK'),\n",
        " ('японский', 'UNK')]\n",
        "```"
      ],
      "id": "3d4ffdee"
    },
    {
      "cell_type": "code",
      "metadata": {
        "execution": {
          "iopub.execute_input": "2021-11-21T11:15:54.658080Z",
          "iopub.status.busy": "2021-11-21T11:15:54.657253Z",
          "iopub.status.idle": "2021-11-21T11:15:54.808497Z",
          "shell.execute_reply": "2021-11-21T11:15:54.807497Z",
          "shell.execute_reply.started": "2021-11-21T10:28:56.556597Z"
        },
        "id": "d4129e8b",
        "papermill": {
          "duration": 0.264485,
          "end_time": "2021-11-21T11:15:54.808651",
          "exception": false,
          "start_time": "2021-11-21T11:15:54.544166",
          "status": "completed"
        },
        "tags": []
      },
      "source": [
        "word2index = {}\n",
        "\n",
        "for text in corpus:\n",
        "    for token in text:\n",
        "        if token not in word2index:\n",
        "            word2index[token] = len(word2index)"
      ],
      "id": "d4129e8b",
      "execution_count": null,
      "outputs": []
    },
    {
      "cell_type": "code",
      "metadata": {
        "execution": {
          "iopub.execute_input": "2021-11-21T11:15:55.006395Z",
          "iopub.status.busy": "2021-11-21T11:15:55.005722Z",
          "iopub.status.idle": "2021-11-21T11:15:55.008455Z",
          "shell.execute_reply": "2021-11-21T11:15:55.008896Z",
          "shell.execute_reply.started": "2021-11-21T10:28:56.729824Z"
        },
        "id": "a6bfd647",
        "papermill": {
          "duration": 0.103378,
          "end_time": "2021-11-21T11:15:55.009036",
          "exception": false,
          "start_time": "2021-11-21T11:15:54.905658",
          "status": "completed"
        },
        "tags": [],
        "outputId": "f2e5bff8-3513-4957-fc60-28621ac7c956"
      },
      "source": [
        "len(word2index)"
      ],
      "id": "a6bfd647",
      "execution_count": null,
      "outputs": [
        {
          "data": {
            "text/plain": [
              "13076"
            ]
          },
          "execution_count": 23,
          "metadata": {},
          "output_type": "execute_result"
        }
      ]
    },
    {
      "cell_type": "code",
      "metadata": {
        "execution": {
          "iopub.execute_input": "2021-11-21T11:15:55.206018Z",
          "iopub.status.busy": "2021-11-21T11:15:55.205235Z",
          "iopub.status.idle": "2021-11-21T11:15:55.208094Z",
          "shell.execute_reply": "2021-11-21T11:15:55.208605Z",
          "shell.execute_reply.started": "2021-11-21T10:28:56.74178Z"
        },
        "id": "913f17a1",
        "papermill": {
          "duration": 0.10438,
          "end_time": "2021-11-21T11:15:55.208741",
          "exception": false,
          "start_time": "2021-11-21T11:15:55.104361",
          "status": "completed"
        },
        "tags": [],
        "outputId": "f40dc6f5-a2a1-435d-ab56-ea6fa2b607cb"
      },
      "source": [
        "word2index['UNK']"
      ],
      "id": "913f17a1",
      "execution_count": null,
      "outputs": [
        {
          "data": {
            "text/plain": [
              "1"
            ]
          },
          "execution_count": 24,
          "metadata": {},
          "output_type": "execute_result"
        }
      ]
    },
    {
      "cell_type": "code",
      "metadata": {
        "execution": {
          "iopub.execute_input": "2021-11-21T11:15:55.412502Z",
          "iopub.status.busy": "2021-11-21T11:15:55.408390Z",
          "iopub.status.idle": "2021-11-21T11:15:55.418426Z",
          "shell.execute_reply": "2021-11-21T11:15:55.418003Z",
          "shell.execute_reply.started": "2021-11-21T10:28:56.749504Z"
        },
        "id": "0c664134",
        "papermill": {
          "duration": 0.111028,
          "end_time": "2021-11-21T11:15:55.418545",
          "exception": false,
          "start_time": "2021-11-21T11:15:55.307517",
          "status": "completed"
        },
        "tags": [],
        "outputId": "c652728c-66b2-482e-b639-f2d60f29de9a"
      },
      "source": [
        "[word2index[tok] if tok in word2index else word2index['UNK'] for tok in 'мама мыть рама'.split()]"
      ],
      "id": "0c664134",
      "execution_count": null,
      "outputs": [
        {
          "data": {
            "text/plain": [
              "[1282, 8436, 1]"
            ]
          },
          "execution_count": 25,
          "metadata": {},
          "output_type": "execute_result"
        }
      ]
    },
    {
      "cell_type": "markdown",
      "metadata": {
        "id": "375e2ffb",
        "papermill": {
          "duration": 0.095508,
          "end_time": "2021-11-21T11:15:55.611155",
          "exception": false,
          "start_time": "2021-11-21T11:15:55.515647",
          "status": "completed"
        },
        "tags": []
      },
      "source": [
        "# Torch Dataset\n",
        "В торче есть очень удобная читалка данных"
      ],
      "id": "375e2ffb"
    },
    {
      "cell_type": "code",
      "metadata": {
        "execution": {
          "iopub.execute_input": "2021-11-21T11:15:55.808853Z",
          "iopub.status.busy": "2021-11-21T11:15:55.807965Z",
          "iopub.status.idle": "2021-11-21T11:15:55.809878Z",
          "shell.execute_reply": "2021-11-21T11:15:55.810339Z",
          "shell.execute_reply.started": "2021-11-21T10:28:56.758398Z"
        },
        "id": "e585f069",
        "papermill": {
          "duration": 0.10325,
          "end_time": "2021-11-21T11:15:55.810474",
          "exception": false,
          "start_time": "2021-11-21T11:15:55.707224",
          "status": "completed"
        },
        "tags": []
      },
      "source": [
        "from torch.utils.data import Dataset, DataLoader"
      ],
      "id": "e585f069",
      "execution_count": null,
      "outputs": []
    },
    {
      "cell_type": "code",
      "metadata": {
        "execution": {
          "iopub.execute_input": "2021-11-21T11:15:56.006531Z",
          "iopub.status.busy": "2021-11-21T11:15:56.005726Z",
          "iopub.status.idle": "2021-11-21T11:15:56.016581Z",
          "shell.execute_reply": "2021-11-21T11:15:56.017088Z",
          "shell.execute_reply.started": "2021-11-21T10:28:56.770104Z"
        },
        "id": "3f2a824b",
        "papermill": {
          "duration": 0.111398,
          "end_time": "2021-11-21T11:15:56.017234",
          "exception": false,
          "start_time": "2021-11-21T11:15:55.905836",
          "status": "completed"
        },
        "tags": []
      },
      "source": [
        "# игрушечный датасет\n",
        "# 121535 примера, 4 фичи, 3 класса\n",
        "some_data_x = np.random.rand(121535, 4)\n",
        "some_data_y = np.random.randint(3, size=(121535,))"
      ],
      "id": "3f2a824b",
      "execution_count": null,
      "outputs": []
    },
    {
      "cell_type": "code",
      "metadata": {
        "execution": {
          "iopub.execute_input": "2021-11-21T11:15:56.231122Z",
          "iopub.status.busy": "2021-11-21T11:15:56.230477Z",
          "iopub.status.idle": "2021-11-21T11:15:56.233241Z",
          "shell.execute_reply": "2021-11-21T11:15:56.233689Z",
          "shell.execute_reply.started": "2021-11-21T10:28:56.788091Z"
        },
        "id": "5eb3f757",
        "papermill": {
          "duration": 0.109315,
          "end_time": "2021-11-21T11:15:56.233868",
          "exception": false,
          "start_time": "2021-11-21T11:15:56.124553",
          "status": "completed"
        },
        "tags": [],
        "outputId": "15a4d14f-8cf6-45eb-832d-9d06e3683615"
      },
      "source": [
        "# соверешенно игрушечный, просто цифры\n",
        "some_data_x[:10]"
      ],
      "id": "5eb3f757",
      "execution_count": null,
      "outputs": [
        {
          "data": {
            "text/plain": [
              "array([[0.38504422, 0.57595482, 0.49687667, 0.06481966],\n",
              "       [0.38966155, 0.77054723, 0.07139551, 0.07824815],\n",
              "       [0.24307932, 0.59020043, 0.83069686, 0.7482961 ],\n",
              "       [0.30263243, 0.45264487, 0.09882516, 0.07614285],\n",
              "       [0.41723381, 0.04851568, 0.32472405, 0.82420248],\n",
              "       [0.70483297, 0.76499171, 0.48949817, 0.02839388],\n",
              "       [0.94805793, 0.45766801, 0.91895972, 0.88286673],\n",
              "       [0.06578103, 0.0833702 , 0.83726813, 0.99584129],\n",
              "       [0.88170106, 0.01366627, 0.4178569 , 0.51955389],\n",
              "       [0.87697452, 0.09420082, 0.52858902, 0.47789833]])"
            ]
          },
          "execution_count": 28,
          "metadata": {},
          "output_type": "execute_result"
        }
      ]
    },
    {
      "cell_type": "code",
      "metadata": {
        "execution": {
          "iopub.execute_input": "2021-11-21T11:15:56.436223Z",
          "iopub.status.busy": "2021-11-21T11:15:56.435594Z",
          "iopub.status.idle": "2021-11-21T11:15:56.438313Z",
          "shell.execute_reply": "2021-11-21T11:15:56.438732Z",
          "shell.execute_reply.started": "2021-11-21T10:28:56.798683Z"
        },
        "id": "afb59f50",
        "papermill": {
          "duration": 0.104861,
          "end_time": "2021-11-21T11:15:56.438884",
          "exception": false,
          "start_time": "2021-11-21T11:15:56.334023",
          "status": "completed"
        },
        "tags": [],
        "outputId": "f922ecb2-efc9-4507-aff8-d962466381fe"
      },
      "source": [
        "some_data_y"
      ],
      "id": "afb59f50",
      "execution_count": null,
      "outputs": [
        {
          "data": {
            "text/plain": [
              "array([2, 2, 0, ..., 1, 2, 2])"
            ]
          },
          "execution_count": 29,
          "metadata": {},
          "output_type": "execute_result"
        }
      ]
    },
    {
      "cell_type": "code",
      "metadata": {
        "execution": {
          "iopub.execute_input": "2021-11-21T11:15:56.644737Z",
          "iopub.status.busy": "2021-11-21T11:15:56.643840Z",
          "iopub.status.idle": "2021-11-21T11:15:56.646454Z",
          "shell.execute_reply": "2021-11-21T11:15:56.645997Z",
          "shell.execute_reply.started": "2021-11-21T10:28:56.809987Z"
        },
        "id": "0a1cb148",
        "papermill": {
          "duration": 0.106664,
          "end_time": "2021-11-21T11:15:56.646568",
          "exception": false,
          "start_time": "2021-11-21T11:15:56.539904",
          "status": "completed"
        },
        "tags": []
      },
      "source": [
        "class ToyDataset(Dataset):\n",
        "    \n",
        "    def __init__(self, data_x, data_y):\n",
        "        \n",
        "        super().__init__()\n",
        "        \n",
        "        self.data_x = data_x\n",
        "        self.data_y = data_y\n",
        "        \n",
        "    def __len__(self):\n",
        "        \n",
        "        return len(self.data_x)\n",
        "    \n",
        "    def __getitem__(self, idx):\n",
        "        \n",
        "        return self.data_x[idx], self.data_y[idx]"
      ],
      "id": "0a1cb148",
      "execution_count": null,
      "outputs": []
    },
    {
      "cell_type": "code",
      "metadata": {
        "execution": {
          "iopub.execute_input": "2021-11-21T11:15:56.846584Z",
          "iopub.status.busy": "2021-11-21T11:15:56.845670Z",
          "iopub.status.idle": "2021-11-21T11:15:56.848348Z",
          "shell.execute_reply": "2021-11-21T11:15:56.847901Z",
          "shell.execute_reply.started": "2021-11-21T10:28:56.82Z"
        },
        "id": "7a2791ce",
        "papermill": {
          "duration": 0.104783,
          "end_time": "2021-11-21T11:15:56.848472",
          "exception": false,
          "start_time": "2021-11-21T11:15:56.743689",
          "status": "completed"
        },
        "tags": []
      },
      "source": [
        "some_dataset = ToyDataset(some_data_x, some_data_y)"
      ],
      "id": "7a2791ce",
      "execution_count": null,
      "outputs": []
    },
    {
      "cell_type": "code",
      "metadata": {
        "execution": {
          "iopub.execute_input": "2021-11-21T11:15:57.062681Z",
          "iopub.status.busy": "2021-11-21T11:15:57.061433Z",
          "iopub.status.idle": "2021-11-21T11:15:57.066114Z",
          "shell.execute_reply": "2021-11-21T11:15:57.063652Z",
          "shell.execute_reply.started": "2021-11-21T10:28:56.829124Z"
        },
        "id": "a469f6d8",
        "papermill": {
          "duration": 0.120149,
          "end_time": "2021-11-21T11:15:57.066337",
          "exception": false,
          "start_time": "2021-11-21T11:15:56.946188",
          "status": "completed"
        },
        "tags": [],
        "outputId": "f2c06bf3-5d85-4658-8591-9affb49a78d4"
      },
      "source": [
        "some_dataset[5], some_dataset[467]"
      ],
      "id": "a469f6d8",
      "execution_count": null,
      "outputs": [
        {
          "data": {
            "text/plain": [
              "((array([0.70483297, 0.76499171, 0.48949817, 0.02839388]), 0),\n",
              " (array([0.3102885 , 0.26257687, 0.46948565, 0.25429997]), 1))"
            ]
          },
          "execution_count": 32,
          "metadata": {},
          "output_type": "execute_result"
        }
      ]
    },
    {
      "cell_type": "code",
      "metadata": {
        "execution": {
          "iopub.execute_input": "2021-11-21T11:15:57.422365Z",
          "iopub.status.busy": "2021-11-21T11:15:57.421414Z",
          "iopub.status.idle": "2021-11-21T11:15:57.423287Z",
          "shell.execute_reply": "2021-11-21T11:15:57.424022Z",
          "shell.execute_reply.started": "2021-11-21T10:28:56.840867Z"
        },
        "id": "c9b6f034",
        "papermill": {
          "duration": 0.173927,
          "end_time": "2021-11-21T11:15:57.424203",
          "exception": false,
          "start_time": "2021-11-21T11:15:57.250276",
          "status": "completed"
        },
        "tags": []
      },
      "source": [
        "some_loader = DataLoader(some_dataset, batch_size=16, shuffle=True)"
      ],
      "id": "c9b6f034",
      "execution_count": null,
      "outputs": []
    },
    {
      "cell_type": "code",
      "metadata": {
        "execution": {
          "iopub.execute_input": "2021-11-21T11:15:57.717879Z",
          "iopub.status.busy": "2021-11-21T11:15:57.717298Z",
          "iopub.status.idle": "2021-11-21T11:15:57.811378Z",
          "shell.execute_reply": "2021-11-21T11:15:57.811836Z",
          "shell.execute_reply.started": "2021-11-21T10:28:56.848308Z"
        },
        "id": "e466b672",
        "papermill": {
          "duration": 0.224291,
          "end_time": "2021-11-21T11:15:57.811994",
          "exception": false,
          "start_time": "2021-11-21T11:15:57.587703",
          "status": "completed"
        },
        "tags": [],
        "outputId": "24b96a4f-a0e6-44c8-a143-87b74161d990"
      },
      "source": [
        "for x, y in some_loader:\n",
        "    break\n",
        "    \n",
        "len(x), x"
      ],
      "id": "e466b672",
      "execution_count": null,
      "outputs": [
        {
          "data": {
            "text/plain": [
              "(16,\n",
              " tensor([[0.6125, 0.3724, 0.7820, 0.5935],\n",
              "         [0.1740, 0.1197, 0.0178, 0.9763],\n",
              "         [0.8810, 0.3964, 0.8774, 0.7502],\n",
              "         [0.6621, 0.8013, 0.1809, 0.9026],\n",
              "         [0.1252, 0.6091, 0.1082, 0.1331],\n",
              "         [0.6410, 0.9057, 0.2911, 0.4888],\n",
              "         [0.5916, 0.9204, 0.7992, 0.0917],\n",
              "         [0.1869, 0.5895, 0.1204, 0.7102],\n",
              "         [0.3570, 0.6578, 0.2348, 0.8318],\n",
              "         [0.0471, 0.7786, 0.5595, 0.3257],\n",
              "         [0.9114, 0.1637, 0.3753, 0.3446],\n",
              "         [0.4345, 0.2241, 0.9297, 0.2101],\n",
              "         [0.3387, 0.2956, 0.3777, 0.8355],\n",
              "         [0.8782, 0.0654, 0.9090, 0.3637],\n",
              "         [0.9356, 0.9344, 0.1669, 0.1869],\n",
              "         [0.7367, 0.0714, 0.2486, 0.2868]], dtype=torch.float64))"
            ]
          },
          "execution_count": 34,
          "metadata": {},
          "output_type": "execute_result"
        }
      ]
    },
    {
      "cell_type": "code",
      "metadata": {
        "execution": {
          "iopub.execute_input": "2021-11-21T11:15:58.114855Z",
          "iopub.status.busy": "2021-11-21T11:15:58.113933Z",
          "iopub.status.idle": "2021-11-21T11:15:59.226543Z",
          "shell.execute_reply": "2021-11-21T11:15:59.225901Z",
          "shell.execute_reply.started": "2021-11-21T10:28:56.955302Z"
        },
        "id": "e5c3eb04",
        "papermill": {
          "duration": 1.288031,
          "end_time": "2021-11-21T11:15:59.226685",
          "exception": false,
          "start_time": "2021-11-21T11:15:57.938654",
          "status": "completed"
        },
        "tags": [],
        "outputId": "050a6add-d9c3-4dcb-c390-943736deada4"
      },
      "source": [
        "for x, y in some_loader:\n",
        "    pass\n",
        "\n",
        "len(x)"
      ],
      "id": "e5c3eb04",
      "execution_count": null,
      "outputs": [
        {
          "data": {
            "text/plain": [
              "15"
            ]
          },
          "execution_count": 35,
          "metadata": {},
          "output_type": "execute_result"
        }
      ]
    },
    {
      "cell_type": "code",
      "metadata": {
        "execution": {
          "iopub.execute_input": "2021-11-21T11:15:59.434938Z",
          "iopub.status.busy": "2021-11-21T11:15:59.434084Z",
          "iopub.status.idle": "2021-11-21T11:15:59.437143Z",
          "shell.execute_reply": "2021-11-21T11:15:59.437548Z",
          "shell.execute_reply.started": "2021-11-21T10:28:57.722716Z"
        },
        "id": "d27f3535",
        "papermill": {
          "duration": 0.111686,
          "end_time": "2021-11-21T11:15:59.437681",
          "exception": false,
          "start_time": "2021-11-21T11:15:59.325995",
          "status": "completed"
        },
        "tags": [],
        "outputId": "4778ebea-cd2e-4cf3-e6d6-51576029b8c8"
      },
      "source": [
        "# почему 13?\n",
        "# потому что количество наших данных нацело не делится на 16\n",
        "# и поэтому последний батч меньше 16-ти\n",
        "len(some_dataset) % 16"
      ],
      "id": "d27f3535",
      "execution_count": null,
      "outputs": [
        {
          "data": {
            "text/plain": [
              "15"
            ]
          },
          "execution_count": 36,
          "metadata": {},
          "output_type": "execute_result"
        }
      ]
    },
    {
      "cell_type": "markdown",
      "metadata": {
        "id": "915e3693",
        "papermill": {
          "duration": 0.097961,
          "end_time": "2021-11-21T11:15:59.634561",
          "exception": false,
          "start_time": "2021-11-21T11:15:59.536600",
          "status": "completed"
        },
        "tags": []
      },
      "source": [
        "# А зачем?"
      ],
      "id": "915e3693"
    },
    {
      "cell_type": "code",
      "metadata": {
        "execution": {
          "iopub.execute_input": "2021-11-21T11:15:59.840087Z",
          "iopub.status.busy": "2021-11-21T11:15:59.839184Z",
          "iopub.status.idle": "2021-11-21T11:15:59.840998Z",
          "shell.execute_reply": "2021-11-21T11:15:59.841449Z",
          "shell.execute_reply.started": "2021-11-21T10:28:57.733596Z"
        },
        "id": "94fc0111",
        "papermill": {
          "duration": 0.109094,
          "end_time": "2021-11-21T11:15:59.841581",
          "exception": false,
          "start_time": "2021-11-21T11:15:59.732487",
          "status": "completed"
        },
        "tags": []
      },
      "source": [
        "class ToyDataset(Dataset):\n",
        "    \n",
        "    def __init__(self, data_x, data_y):\n",
        "        \n",
        "        super().__init__()\n",
        "        \n",
        "        self.data_x = data_x\n",
        "        self.data_y = data_y\n",
        "        \n",
        "    def __len__(self):\n",
        "        \n",
        "        # Нужно обязательно определить эту функцию\n",
        "        # Должна возвращать размер датасета\n",
        "        \n",
        "        return len(self.data_x)\n",
        "    \n",
        "    @staticmethod\n",
        "    def add_pow_features(x, n=2):\n",
        "        \n",
        "        return np.concatenate([x, x ** n]) \n",
        "    \n",
        "    @staticmethod\n",
        "    def add_log_features(x):\n",
        "        \n",
        "        return np.concatenate([x, np.log(x)]) \n",
        "    \n",
        "    def __getitem__(self, idx):\n",
        "        \n",
        "        # Еще нужно определить этот метод\n",
        "        # То есть как мы будем доставать наши данные по индексу\n",
        "        \n",
        "        x = self.data_x[idx]\n",
        "        \n",
        "        # внутри датасета мы можем делать все что угодно с нашими данными\n",
        "        # например выше определим функции, которые добавляют степенные фичи\n",
        "        x = self.add_pow_features(x, n=2)\n",
        "        x = self.add_pow_features(x, n=3)\n",
        "        # и еще возьмем логарифмические фичи\n",
        "        x = self.add_log_features(x)\n",
        "        \n",
        "        y = self.data_y[idx]\n",
        "        \n",
        "        return x, y"
      ],
      "id": "94fc0111",
      "execution_count": null,
      "outputs": []
    },
    {
      "cell_type": "code",
      "metadata": {
        "execution": {
          "iopub.execute_input": "2021-11-21T11:16:00.043958Z",
          "iopub.status.busy": "2021-11-21T11:16:00.042308Z",
          "iopub.status.idle": "2021-11-21T11:16:00.044533Z",
          "shell.execute_reply": "2021-11-21T11:16:00.044970Z",
          "shell.execute_reply.started": "2021-11-21T10:28:57.746393Z"
        },
        "id": "5d816777",
        "papermill": {
          "duration": 0.105342,
          "end_time": "2021-11-21T11:16:00.045116",
          "exception": false,
          "start_time": "2021-11-21T11:15:59.939774",
          "status": "completed"
        },
        "tags": []
      },
      "source": [
        "toy_dataset = ToyDataset(some_data_x, some_data_y)"
      ],
      "id": "5d816777",
      "execution_count": null,
      "outputs": []
    },
    {
      "cell_type": "code",
      "metadata": {
        "execution": {
          "iopub.execute_input": "2021-11-21T11:16:00.245318Z",
          "iopub.status.busy": "2021-11-21T11:16:00.244494Z",
          "iopub.status.idle": "2021-11-21T11:16:00.249065Z",
          "shell.execute_reply": "2021-11-21T11:16:00.248577Z",
          "shell.execute_reply.started": "2021-11-21T10:28:57.75659Z"
        },
        "id": "cc7321eb",
        "papermill": {
          "duration": 0.106199,
          "end_time": "2021-11-21T11:16:00.249185",
          "exception": false,
          "start_time": "2021-11-21T11:16:00.142986",
          "status": "completed"
        },
        "tags": []
      },
      "source": [
        "toy_loader = DataLoader(dataset=toy_dataset, batch_size=128)"
      ],
      "id": "cc7321eb",
      "execution_count": null,
      "outputs": []
    },
    {
      "cell_type": "code",
      "metadata": {
        "execution": {
          "iopub.execute_input": "2021-11-21T11:16:00.450286Z",
          "iopub.status.busy": "2021-11-21T11:16:00.449455Z",
          "iopub.status.idle": "2021-11-21T11:16:00.455911Z",
          "shell.execute_reply": "2021-11-21T11:16:00.455381Z",
          "shell.execute_reply.started": "2021-11-21T10:28:57.765571Z"
        },
        "id": "8809c292",
        "papermill": {
          "duration": 0.108012,
          "end_time": "2021-11-21T11:16:00.456042",
          "exception": false,
          "start_time": "2021-11-21T11:16:00.348030",
          "status": "completed"
        },
        "tags": []
      },
      "source": [
        "for x, y in toy_loader:\n",
        "    break"
      ],
      "id": "8809c292",
      "execution_count": null,
      "outputs": []
    },
    {
      "cell_type": "code",
      "metadata": {
        "execution": {
          "iopub.execute_input": "2021-11-21T11:16:00.664300Z",
          "iopub.status.busy": "2021-11-21T11:16:00.663101Z",
          "iopub.status.idle": "2021-11-21T11:16:00.666649Z",
          "shell.execute_reply": "2021-11-21T11:16:00.666230Z",
          "shell.execute_reply.started": "2021-11-21T10:28:57.787803Z"
        },
        "id": "85e2cf00",
        "papermill": {
          "duration": 0.107192,
          "end_time": "2021-11-21T11:16:00.666764",
          "exception": false,
          "start_time": "2021-11-21T11:16:00.559572",
          "status": "completed"
        },
        "tags": [],
        "outputId": "97675d4f-4805-41a2-a215-c68574b79705"
      },
      "source": [
        "x.shape"
      ],
      "id": "85e2cf00",
      "execution_count": null,
      "outputs": [
        {
          "data": {
            "text/plain": [
              "torch.Size([128, 32])"
            ]
          },
          "execution_count": 41,
          "metadata": {},
          "output_type": "execute_result"
        }
      ]
    },
    {
      "cell_type": "code",
      "metadata": {
        "execution": {
          "iopub.execute_input": "2021-11-21T11:16:00.870070Z",
          "iopub.status.busy": "2021-11-21T11:16:00.869165Z",
          "iopub.status.idle": "2021-11-21T11:16:00.874463Z",
          "shell.execute_reply": "2021-11-21T11:16:00.874960Z",
          "shell.execute_reply.started": "2021-11-21T10:28:57.795583Z"
        },
        "id": "4c425d83",
        "papermill": {
          "duration": 0.109765,
          "end_time": "2021-11-21T11:16:00.875110",
          "exception": false,
          "start_time": "2021-11-21T11:16:00.765345",
          "status": "completed"
        },
        "tags": [],
        "outputId": "9b6c992a-e279-41f4-e758-2366b0759911"
      },
      "source": [
        "# заметим, что мы сразу получаем торчовый формат данных\n",
        "x"
      ],
      "id": "4c425d83",
      "execution_count": null,
      "outputs": [
        {
          "data": {
            "text/plain": [
              "tensor([[  0.3850,   0.5760,   0.4969,  ...,  -3.3104,  -4.1965, -16.4169],\n",
              "        [  0.3897,   0.7705,   0.0714,  ...,  -1.5639, -15.8371, -15.2872],\n",
              "        [  0.2431,   0.5902,   0.8307,  ...,  -3.1638,  -1.1129,  -1.7397],\n",
              "        ...,\n",
              "        [  0.5244,   0.7601,   0.7407,  ...,  -1.6462,  -1.8011, -17.0492],\n",
              "        [  0.4120,   0.1393,   0.1067,  ..., -11.8288, -13.4269,  -2.1329],\n",
              "        [  0.7125,   0.4757,   0.3930,  ...,  -4.4574,  -5.6037,  -0.4088]],\n",
              "       dtype=torch.float64)"
            ]
          },
          "execution_count": 42,
          "metadata": {},
          "output_type": "execute_result"
        }
      ]
    },
    {
      "cell_type": "code",
      "metadata": {
        "execution": {
          "iopub.execute_input": "2021-11-21T11:16:01.077703Z",
          "iopub.status.busy": "2021-11-21T11:16:01.076893Z",
          "iopub.status.idle": "2021-11-21T11:16:01.081468Z",
          "shell.execute_reply": "2021-11-21T11:16:01.082299Z",
          "shell.execute_reply.started": "2021-11-21T10:28:57.808333Z"
        },
        "id": "7ee369e0",
        "papermill": {
          "duration": 0.108349,
          "end_time": "2021-11-21T11:16:01.082436",
          "exception": false,
          "start_time": "2021-11-21T11:16:00.974087",
          "status": "completed"
        },
        "tags": [],
        "outputId": "5c7bf08b-115b-4160-c3a0-9571069679e6"
      },
      "source": [
        "y"
      ],
      "id": "7ee369e0",
      "execution_count": null,
      "outputs": [
        {
          "data": {
            "text/plain": [
              "tensor([2, 2, 0, 1, 0, 0, 1, 1, 2, 0, 2, 2, 1, 0, 2, 1, 1, 1, 2, 2, 1, 2, 0, 1,\n",
              "        1, 0, 0, 0, 1, 0, 2, 1, 2, 0, 1, 2, 1, 2, 0, 1, 0, 0, 2, 0, 2, 0, 2, 1,\n",
              "        1, 2, 1, 1, 2, 1, 1, 0, 2, 0, 1, 2, 2, 1, 0, 1, 2, 0, 1, 1, 2, 0, 2, 1,\n",
              "        2, 0, 0, 0, 2, 1, 2, 2, 2, 2, 2, 1, 2, 2, 0, 0, 1, 1, 0, 0, 1, 1, 1, 2,\n",
              "        0, 1, 0, 2, 2, 0, 0, 2, 1, 2, 2, 2, 2, 1, 1, 0, 1, 0, 0, 0, 0, 1, 2, 2,\n",
              "        1, 2, 0, 1, 2, 2, 2, 2])"
            ]
          },
          "execution_count": 43,
          "metadata": {},
          "output_type": "execute_result"
        }
      ]
    },
    {
      "cell_type": "markdown",
      "metadata": {
        "id": "8779d055",
        "papermill": {
          "duration": 0.099817,
          "end_time": "2021-11-21T11:16:01.281777",
          "exception": false,
          "start_time": "2021-11-21T11:16:01.181960",
          "status": "completed"
        },
        "tags": []
      },
      "source": [
        "# Если вы ничего здесь не понимаете, то вернитесь в конец первой домашки, там все объясняется"
      ],
      "id": "8779d055"
    },
    {
      "cell_type": "code",
      "metadata": {
        "execution": {
          "iopub.execute_input": "2021-11-21T11:16:01.488897Z",
          "iopub.status.busy": "2021-11-21T11:16:01.488295Z",
          "iopub.status.idle": "2021-11-21T11:16:01.493227Z",
          "shell.execute_reply": "2021-11-21T11:16:01.492735Z",
          "shell.execute_reply.started": "2021-11-21T10:28:57.816805Z"
        },
        "id": "62a86c52",
        "papermill": {
          "duration": 0.110658,
          "end_time": "2021-11-21T11:16:01.493344",
          "exception": false,
          "start_time": "2021-11-21T11:16:01.382686",
          "status": "completed"
        },
        "tags": []
      },
      "source": [
        "model = torch.nn.Sequential(torch.nn.Linear(32, 16),\n",
        "                            torch.nn.ReLU(),\n",
        "                            torch.nn.Linear(16, 8),\n",
        "                            torch.nn.ReLU(),\n",
        "                            torch.nn.Linear(8, 3))\n",
        "\n",
        "criterion = torch.nn.CrossEntropyLoss()"
      ],
      "id": "62a86c52",
      "execution_count": null,
      "outputs": []
    },
    {
      "cell_type": "code",
      "metadata": {
        "execution": {
          "iopub.execute_input": "2021-11-21T11:16:01.697317Z",
          "iopub.status.busy": "2021-11-21T11:16:01.696749Z",
          "iopub.status.idle": "2021-11-21T11:16:01.751416Z",
          "shell.execute_reply": "2021-11-21T11:16:01.751819Z",
          "shell.execute_reply.started": "2021-11-21T10:28:57.827789Z"
        },
        "id": "109bccc9",
        "papermill": {
          "duration": 0.158737,
          "end_time": "2021-11-21T11:16:01.751973",
          "exception": false,
          "start_time": "2021-11-21T11:16:01.593236",
          "status": "completed"
        },
        "tags": [],
        "outputId": "860496a2-3220-4ef1-f521-31a609c5a629"
      },
      "source": [
        "with torch.no_grad():\n",
        "\n",
        "    prediction = model(x.float())\n",
        "\n",
        "    loss = criterion(prediction, y)\n",
        "    \n",
        "loss.item()"
      ],
      "id": "109bccc9",
      "execution_count": null,
      "outputs": [
        {
          "data": {
            "text/plain": [
              "1.1467671394348145"
            ]
          },
          "execution_count": 45,
          "metadata": {},
          "output_type": "execute_result"
        }
      ]
    },
    {
      "cell_type": "markdown",
      "metadata": {
        "id": "9594c3d5",
        "papermill": {
          "duration": 0.098474,
          "end_time": "2021-11-21T11:16:01.949641",
          "exception": false,
          "start_time": "2021-11-21T11:16:01.851167",
          "status": "completed"
        },
        "tags": []
      },
      "source": [
        "# Боевые датасеты"
      ],
      "id": "9594c3d5"
    },
    {
      "cell_type": "code",
      "metadata": {
        "execution": {
          "iopub.execute_input": "2021-11-21T11:16:02.164812Z",
          "iopub.status.busy": "2021-11-21T11:16:02.163879Z",
          "iopub.status.idle": "2021-11-21T11:16:02.166010Z",
          "shell.execute_reply": "2021-11-21T11:16:02.166406Z",
          "shell.execute_reply.started": "2021-11-21T10:28:57.911082Z"
        },
        "id": "952de304",
        "papermill": {
          "duration": 0.117702,
          "end_time": "2021-11-21T11:16:02.166558",
          "exception": false,
          "start_time": "2021-11-21T11:16:02.048856",
          "status": "completed"
        },
        "tags": []
      },
      "source": [
        "class CBOWDataset(Dataset):\n",
        "\n",
        "    def __init__(self,\n",
        "                 corpus,\n",
        "                 word2index,\n",
        "                 window=2,\n",
        "                 unk_token='UNK',\n",
        "                 pad_token='PAD',\n",
        "                 collect_verbose=True):\n",
        "\n",
        "        self.corpus = corpus\n",
        "        self.word2index = word2index\n",
        "        self.index2word = {value: key for key, value in self.word2index.items()}\n",
        "        self.window = window\n",
        "\n",
        "        self.unk_token = unk_token\n",
        "        self.unk_index = self.word2index[self.unk_token]\n",
        "\n",
        "        self.pad_token = pad_token\n",
        "        self.pad_index = len(self.word2index)\n",
        "\n",
        "        self.collect_verbose = collect_verbose\n",
        "\n",
        "        self.data = []\n",
        "\n",
        "        self.collect_data()\n",
        "\n",
        "    def __len__(self):\n",
        "\n",
        "        return len(self.data)\n",
        "\n",
        "    def _split_function(self, tokenized_text):\n",
        "\n",
        "        splits = []\n",
        "\n",
        "        for n in range(len(tokenized_text)):\n",
        "            left_context = tokenized_text[np.maximum(n - self.window, 0):n]\n",
        "            left_context = ([self.pad_index] * (self.window - len(left_context))) + left_context\n",
        "\n",
        "            central_word = tokenized_text[n]\n",
        "\n",
        "            right_context = tokenized_text[n + 1:n + self.window + 1]\n",
        "            right_context = right_context + ([self.pad_index] * (self.window - len(right_context)))\n",
        "\n",
        "            splits.append((left_context + right_context, central_word))\n",
        "\n",
        "        return splits\n",
        "\n",
        "    def indexing(self, tokenized_text):\n",
        "\n",
        "        return [self.word2index[token] if token in self.word2index else self.unk_index for token in tokenized_text]\n",
        "\n",
        "    def collect_data(self):\n",
        "\n",
        "        corpus = tqdm(self.corpus, disable=not self.collect_verbose)\n",
        "\n",
        "        for tokenized_text in corpus:\n",
        "            indexed_text = self.indexing(tokenized_text)\n",
        "            cbow_examples = self._split_function(indexed_text)\n",
        "\n",
        "            self.data.extend(cbow_examples)\n",
        "\n",
        "    def __getitem__(self, idx):\n",
        "\n",
        "        context, central_word = self.data[idx]\n",
        "\n",
        "        context = torch.Tensor(context).long()\n",
        "\n",
        "        return context, central_word"
      ],
      "id": "952de304",
      "execution_count": null,
      "outputs": []
    },
    {
      "cell_type": "markdown",
      "metadata": {
        "id": "6ffcfd0c",
        "papermill": {
          "duration": 0.099866,
          "end_time": "2021-11-21T11:16:02.367640",
          "exception": false,
          "start_time": "2021-11-21T11:16:02.267774",
          "status": "completed"
        },
        "tags": []
      },
      "source": [
        "# Мы будем учить модель Skipgram\n",
        "Реализуйте читалку данных"
      ],
      "id": "6ffcfd0c"
    },
    {
      "cell_type": "code",
      "metadata": {
        "execution": {
          "iopub.execute_input": "2021-11-21T11:16:02.578663Z",
          "iopub.status.busy": "2021-11-21T11:16:02.577718Z",
          "iopub.status.idle": "2021-11-21T11:16:02.579603Z",
          "shell.execute_reply": "2021-11-21T11:16:02.580026Z",
          "shell.execute_reply.started": "2021-11-21T10:28:57.925288Z"
        },
        "id": "37456e84",
        "papermill": {
          "duration": 0.11308,
          "end_time": "2021-11-21T11:16:02.580169",
          "exception": false,
          "start_time": "2021-11-21T11:16:02.467089",
          "status": "completed"
        },
        "tags": []
      },
      "source": [
        "class SkipgramDataset(Dataset):\n",
        "\n",
        "    def __init__(self,\n",
        "                 corpus,\n",
        "                 word2index,\n",
        "                 window=2,\n",
        "                 unk_token='UNK',\n",
        "                 collect_verbose=True):\n",
        "\n",
        "        self.corpus = corpus\n",
        "        self.word2index = word2index\n",
        "        self.index2word = {value: key for key, value in self.word2index.items()}\n",
        "        self.window = window\n",
        "\n",
        "        self.unk_token = unk_token\n",
        "        self.unk_index = self.word2index[self.unk_token]\n",
        "\n",
        "        self.collect_verbose = collect_verbose\n",
        "\n",
        "        self.data = []\n",
        "\n",
        "        self.collect_data()\n",
        "\n",
        "    def __len__(self):\n",
        "\n",
        "        return len(self.data)\n",
        "\n",
        "    def _split_function(self, tokenized_text):\n",
        "        \n",
        "        splits = []\n",
        "        \n",
        "        for i in range(len(tokenized_text)):\n",
        "            for j in range(self.window + 1)[:0:-1]:\n",
        "                if j > i:\n",
        "                    continue\n",
        "                splits.append((tokenized_text[i-j], tokenized_text[i]))\n",
        "            for j in range(self.window + 1)[1:]:\n",
        "                if i + j > len(tokenized_text) - 1:\n",
        "                    break\n",
        "                splits.append((tokenized_text[i+j], tokenized_text[i]))\n",
        "\n",
        "        return splits\n",
        "\n",
        "    def indexing(self, tokenized_text):\n",
        "\n",
        "        return [self.word2index[token] if token in self.word2index else self.unk_index for token in tokenized_text]\n",
        "\n",
        "    def collect_data(self):\n",
        "\n",
        "        corpus = tqdm(self.corpus, disable=not self.collect_verbose)\n",
        "\n",
        "        for tokenized_text in corpus:\n",
        "            indexed_text = self.indexing(tokenized_text)\n",
        "            skipgram_examples = self._split_function(indexed_text)\n",
        "\n",
        "            self.data.extend(skipgram_examples)\n",
        "\n",
        "    def __getitem__(self, idx):\n",
        "        \n",
        "        context, central_word = self.data[idx]\n",
        "\n",
        "        context = torch.tensor(context)\n",
        "\n",
        "        return context, central_word"
      ],
      "id": "37456e84",
      "execution_count": null,
      "outputs": []
    },
    {
      "cell_type": "code",
      "metadata": {
        "execution": {
          "iopub.execute_input": "2021-11-21T11:16:02.782608Z",
          "iopub.status.busy": "2021-11-21T11:16:02.781798Z",
          "iopub.status.idle": "2021-11-21T11:16:02.784403Z",
          "shell.execute_reply": "2021-11-21T11:16:02.783980Z",
          "shell.execute_reply.started": "2021-11-21T10:28:57.942808Z"
        },
        "id": "0d6aa351",
        "papermill": {
          "duration": 0.105957,
          "end_time": "2021-11-21T11:16:02.784523",
          "exception": false,
          "start_time": "2021-11-21T11:16:02.678566",
          "status": "completed"
        },
        "tags": []
      },
      "source": [
        "# можете положить SkipgramDataset в отдельный файлик, например word2vec_utils и относительным импортом достать его \n",
        "#from .word2vec_utils import SkipgramDataset"
      ],
      "id": "0d6aa351",
      "execution_count": null,
      "outputs": []
    },
    {
      "cell_type": "code",
      "metadata": {
        "execution": {
          "iopub.execute_input": "2021-11-21T11:16:02.990125Z",
          "iopub.status.busy": "2021-11-21T11:16:02.989318Z",
          "iopub.status.idle": "2021-11-21T11:16:05.748317Z",
          "shell.execute_reply": "2021-11-21T11:16:05.746743Z",
          "shell.execute_reply.started": "2021-11-21T10:28:57.952104Z"
        },
        "id": "85d3dfc7",
        "papermill": {
          "duration": 2.865357,
          "end_time": "2021-11-21T11:16:05.748489",
          "exception": false,
          "start_time": "2021-11-21T11:16:02.883132",
          "status": "completed"
        },
        "scrolled": true,
        "tags": [],
        "outputId": "95459923-9799-4b2a-f2e2-ac98c2b716dc"
      },
      "source": [
        "dataset = SkipgramDataset(corpus, word2index)"
      ],
      "id": "85d3dfc7",
      "execution_count": null,
      "outputs": [
        {
          "name": "stderr",
          "output_type": "stream",
          "text": [
            "100%|██████████| 100000/100000 [00:02<00:00, 36383.07it/s]\n"
          ]
        }
      ]
    },
    {
      "cell_type": "code",
      "metadata": {
        "execution": {
          "iopub.execute_input": "2021-11-21T11:16:05.973579Z",
          "iopub.status.busy": "2021-11-21T11:16:05.972653Z",
          "iopub.status.idle": "2021-11-21T11:16:05.974820Z",
          "shell.execute_reply": "2021-11-21T11:16:05.975275Z",
          "shell.execute_reply.started": "2021-11-21T10:29:00.566928Z"
        },
        "id": "579c9b92",
        "papermill": {
          "duration": 0.116728,
          "end_time": "2021-11-21T11:16:05.975426",
          "exception": false,
          "start_time": "2021-11-21T11:16:05.858698",
          "status": "completed"
        },
        "tags": []
      },
      "source": [
        "BATCH_SIZE = 512"
      ],
      "id": "579c9b92",
      "execution_count": null,
      "outputs": []
    },
    {
      "cell_type": "code",
      "metadata": {
        "execution": {
          "iopub.execute_input": "2021-11-21T11:16:06.196637Z",
          "iopub.status.busy": "2021-11-21T11:16:06.195968Z",
          "iopub.status.idle": "2021-11-21T11:16:06.201574Z",
          "shell.execute_reply": "2021-11-21T11:16:06.201159Z",
          "shell.execute_reply.started": "2021-11-21T10:29:00.572924Z"
        },
        "id": "6672fe93",
        "papermill": {
          "duration": 0.117715,
          "end_time": "2021-11-21T11:16:06.201692",
          "exception": false,
          "start_time": "2021-11-21T11:16:06.083977",
          "status": "completed"
        },
        "tags": []
      },
      "source": [
        "set_random_seed(42)\n",
        "dataset_loader = DataLoader(dataset, shuffle=True, batch_size=BATCH_SIZE)"
      ],
      "id": "6672fe93",
      "execution_count": null,
      "outputs": []
    },
    {
      "cell_type": "code",
      "metadata": {
        "execution": {
          "iopub.execute_input": "2021-11-21T11:16:06.425421Z",
          "iopub.status.busy": "2021-11-21T11:16:06.424494Z",
          "iopub.status.idle": "2021-11-21T11:16:06.745600Z",
          "shell.execute_reply": "2021-11-21T11:16:06.745044Z",
          "shell.execute_reply.started": "2021-11-21T10:29:00.583839Z"
        },
        "id": "7f1af595",
        "papermill": {
          "duration": 0.43538,
          "end_time": "2021-11-21T11:16:06.745745",
          "exception": false,
          "start_time": "2021-11-21T11:16:06.310365",
          "status": "completed"
        },
        "tags": []
      },
      "source": [
        "for x, y in dataset_loader:\n",
        "    break"
      ],
      "id": "7f1af595",
      "execution_count": null,
      "outputs": []
    },
    {
      "cell_type": "code",
      "metadata": {
        "execution": {
          "iopub.execute_input": "2021-11-21T11:16:06.970239Z",
          "iopub.status.busy": "2021-11-21T11:16:06.969357Z",
          "iopub.status.idle": "2021-11-21T11:16:06.973163Z",
          "shell.execute_reply": "2021-11-21T11:16:06.973579Z",
          "shell.execute_reply.started": "2021-11-21T10:29:00.887763Z"
        },
        "id": "6d03bb21",
        "papermill": {
          "duration": 0.115523,
          "end_time": "2021-11-21T11:16:06.973714",
          "exception": false,
          "start_time": "2021-11-21T11:16:06.858191",
          "status": "completed"
        },
        "tags": [],
        "outputId": "361eb878-97eb-4ec1-8f90-14a035cd8e01"
      },
      "source": [
        "x[:5]"
      ],
      "id": "6d03bb21",
      "execution_count": null,
      "outputs": [
        {
          "data": {
            "text/plain": [
              "tensor([  25,  409, 6429,   48, 1787])"
            ]
          },
          "execution_count": 53,
          "metadata": {},
          "output_type": "execute_result"
        }
      ]
    },
    {
      "cell_type": "code",
      "metadata": {
        "execution": {
          "iopub.execute_input": "2021-11-21T11:16:07.195805Z",
          "iopub.status.busy": "2021-11-21T11:16:07.194773Z",
          "iopub.status.idle": "2021-11-21T11:16:07.198323Z",
          "shell.execute_reply": "2021-11-21T11:16:07.198734Z",
          "shell.execute_reply.started": "2021-11-21T10:29:00.897092Z"
        },
        "id": "cfc72525",
        "papermill": {
          "duration": 0.114993,
          "end_time": "2021-11-21T11:16:07.198882",
          "exception": false,
          "start_time": "2021-11-21T11:16:07.083889",
          "status": "completed"
        },
        "tags": [],
        "outputId": "f9f30139-7d3e-41ef-ab20-ad8615ca3c93"
      },
      "source": [
        "y[:5]"
      ],
      "id": "cfc72525",
      "execution_count": null,
      "outputs": [
        {
          "data": {
            "text/plain": [
              "tensor([ 2404,    88,    28,   512, 10078])"
            ]
          },
          "execution_count": 54,
          "metadata": {},
          "output_type": "execute_result"
        }
      ]
    },
    {
      "cell_type": "code",
      "metadata": {
        "execution": {
          "iopub.execute_input": "2021-11-21T11:16:07.420576Z",
          "iopub.status.busy": "2021-11-21T11:16:07.419944Z",
          "iopub.status.idle": "2021-11-21T11:16:07.422668Z",
          "shell.execute_reply": "2021-11-21T11:16:07.423095Z",
          "shell.execute_reply.started": "2021-11-21T10:29:00.908467Z"
        },
        "id": "4d630eca",
        "papermill": {
          "duration": 0.115563,
          "end_time": "2021-11-21T11:16:07.423233",
          "exception": false,
          "start_time": "2021-11-21T11:16:07.307670",
          "status": "completed"
        },
        "tags": [],
        "outputId": "4a4f8449-5f13-43bd-e7fd-eec92e562c14"
      },
      "source": [
        "x.shape, y.shape"
      ],
      "id": "4d630eca",
      "execution_count": null,
      "outputs": [
        {
          "data": {
            "text/plain": [
              "(torch.Size([512]), torch.Size([512]))"
            ]
          },
          "execution_count": 55,
          "metadata": {},
          "output_type": "execute_result"
        }
      ]
    },
    {
      "cell_type": "code",
      "metadata": {
        "execution": {
          "iopub.execute_input": "2021-11-21T11:16:07.644186Z",
          "iopub.status.busy": "2021-11-21T11:16:07.643398Z",
          "iopub.status.idle": "2021-11-21T11:16:07.645916Z",
          "shell.execute_reply": "2021-11-21T11:16:07.645475Z",
          "shell.execute_reply.started": "2021-11-21T10:29:00.916193Z"
        },
        "id": "0fe3fd6f",
        "papermill": {
          "duration": 0.115789,
          "end_time": "2021-11-21T11:16:07.646037",
          "exception": false,
          "start_time": "2021-11-21T11:16:07.530248",
          "status": "completed"
        },
        "tags": []
      },
      "source": [
        "class CBOW(torch.nn.Module):\n",
        "    \n",
        "    def __init__(self, vocab_size, embedding_dim, pad_index):\n",
        "        \n",
        "        super().__init__()\n",
        "        \n",
        "        if pad_index > 0:\n",
        "            vocab_size += 1\n",
        "        \n",
        "        self.in_embedding = torch.nn.Embedding(num_embeddings=vocab_size, \n",
        "                                               embedding_dim=embedding_dim,\n",
        "                                               padding_idx=pad_index)\n",
        "        \n",
        "        self.out_embedding = torch.nn.Linear(in_features=embedding_dim,\n",
        "                                             out_features=vocab_size, bias=False)\n",
        "        \n",
        "    def forward(self, x):\n",
        "        \n",
        "        x = self.in_embedding(x).sum(dim=-2)\n",
        "        x = self.out_embedding(x)\n",
        "        \n",
        "        return x"
      ],
      "id": "0fe3fd6f",
      "execution_count": null,
      "outputs": []
    },
    {
      "cell_type": "markdown",
      "metadata": {
        "id": "11edeeb5",
        "papermill": {
          "duration": 0.107346,
          "end_time": "2021-11-21T11:16:07.860801",
          "exception": false,
          "start_time": "2021-11-21T11:16:07.753455",
          "status": "completed"
        },
        "tags": []
      },
      "source": [
        "# Мы будем учить модель Skipgram\n",
        "Реализуйте ее"
      ],
      "id": "11edeeb5"
    },
    {
      "cell_type": "code",
      "metadata": {
        "execution": {
          "iopub.execute_input": "2021-11-21T11:16:08.128849Z",
          "iopub.status.busy": "2021-11-21T11:16:08.127908Z",
          "iopub.status.idle": "2021-11-21T11:16:08.129715Z",
          "shell.execute_reply": "2021-11-21T11:16:08.132197Z",
          "shell.execute_reply.started": "2021-11-21T10:29:00.926215Z"
        },
        "id": "47164c80",
        "papermill": {
          "duration": 0.164071,
          "end_time": "2021-11-21T11:16:08.132381",
          "exception": false,
          "start_time": "2021-11-21T11:16:07.968310",
          "status": "completed"
        },
        "tags": []
      },
      "source": [
        "class SkipGram(torch.nn.Module):\n",
        "    def __init__(self, vocab_size, embedding_dim):\n",
        "        \n",
        "        super().__init__()\n",
        "        \n",
        "        \n",
        "        self.in_embedding = torch.nn.Embedding(num_embeddings=vocab_size, \n",
        "                                               embedding_dim=embedding_dim)\n",
        "        \n",
        "        self.out_embedding = torch.nn.Linear(in_features=embedding_dim,\n",
        "                                             out_features=vocab_size, bias=False)\n",
        "        \n",
        "    def forward(self, x):\n",
        "        \n",
        "        x = self.in_embedding(x)\n",
        "        x = self.out_embedding(x)\n",
        "        \n",
        "        return x"
      ],
      "id": "47164c80",
      "execution_count": null,
      "outputs": []
    },
    {
      "cell_type": "code",
      "metadata": {
        "execution": {
          "iopub.execute_input": "2021-11-21T11:16:08.516052Z",
          "iopub.status.busy": "2021-11-21T11:16:08.514378Z",
          "iopub.status.idle": "2021-11-21T11:16:08.516848Z",
          "shell.execute_reply": "2021-11-21T11:16:08.515319Z",
          "shell.execute_reply.started": "2021-11-21T10:29:00.935508Z"
        },
        "id": "c87e98d7",
        "papermill": {
          "duration": 0.188949,
          "end_time": "2021-11-21T11:16:08.517019",
          "exception": false,
          "start_time": "2021-11-21T11:16:08.328070",
          "status": "completed"
        },
        "tags": []
      },
      "source": [
        "#from word2vec_utils import SkipGram"
      ],
      "id": "c87e98d7",
      "execution_count": null,
      "outputs": []
    },
    {
      "cell_type": "code",
      "metadata": {
        "execution": {
          "iopub.execute_input": "2021-11-21T11:16:08.793145Z",
          "iopub.status.busy": "2021-11-21T11:16:08.792293Z",
          "iopub.status.idle": "2021-11-21T11:16:08.794336Z",
          "shell.execute_reply": "2021-11-21T11:16:08.794713Z",
          "shell.execute_reply.started": "2021-11-21T10:29:00.946518Z"
        },
        "id": "0add9d52",
        "papermill": {
          "duration": 0.114599,
          "end_time": "2021-11-21T11:16:08.794895",
          "exception": false,
          "start_time": "2021-11-21T11:16:08.680296",
          "status": "completed"
        },
        "tags": []
      },
      "source": [
        "# размерность эмбеддинга\n",
        "# маленькая, чтобы мы могли недолго поучить ворд2век и увидеть результаты\n",
        "EMBEDDING_DIM = 20"
      ],
      "id": "0add9d52",
      "execution_count": null,
      "outputs": []
    },
    {
      "cell_type": "code",
      "metadata": {
        "execution": {
          "iopub.execute_input": "2021-11-21T11:16:09.033172Z",
          "iopub.status.busy": "2021-11-21T11:16:09.032426Z",
          "iopub.status.idle": "2021-11-21T11:16:11.862097Z",
          "shell.execute_reply": "2021-11-21T11:16:11.861527Z",
          "shell.execute_reply.started": "2021-11-21T10:29:00.954528Z"
        },
        "id": "449b2073",
        "papermill": {
          "duration": 2.947968,
          "end_time": "2021-11-21T11:16:11.862232",
          "exception": false,
          "start_time": "2021-11-21T11:16:08.914264",
          "status": "completed"
        },
        "tags": []
      },
      "source": [
        "model = SkipGram(vocab_size=len(word2index), embedding_dim=EMBEDDING_DIM).to('cuda')"
      ],
      "id": "449b2073",
      "execution_count": null,
      "outputs": []
    },
    {
      "cell_type": "code",
      "metadata": {
        "execution": {
          "iopub.execute_input": "2021-11-21T11:16:12.085635Z",
          "iopub.status.busy": "2021-11-21T11:16:12.084904Z",
          "iopub.status.idle": "2021-11-21T11:16:12.868756Z",
          "shell.execute_reply": "2021-11-21T11:16:12.869237Z",
          "shell.execute_reply.started": "2021-11-21T10:29:03.96815Z"
        },
        "id": "abdc269e",
        "papermill": {
          "duration": 0.897781,
          "end_time": "2021-11-21T11:16:12.869404",
          "exception": false,
          "start_time": "2021-11-21T11:16:11.971623",
          "status": "completed"
        },
        "tags": [],
        "outputId": "dfcbf65c-fded-4b45-83ec-06519eb78a1d"
      },
      "source": [
        "with torch.no_grad():\n",
        "    pred = model(x.to('cuda'))\n",
        "\n",
        "pred.shape"
      ],
      "id": "abdc269e",
      "execution_count": null,
      "outputs": [
        {
          "data": {
            "text/plain": [
              "torch.Size([512, 13076])"
            ]
          },
          "execution_count": 61,
          "metadata": {},
          "output_type": "execute_result"
        }
      ]
    },
    {
      "cell_type": "code",
      "metadata": {
        "execution": {
          "iopub.execute_input": "2021-11-21T11:16:13.092669Z",
          "iopub.status.busy": "2021-11-21T11:16:13.091850Z",
          "iopub.status.idle": "2021-11-21T11:16:13.096218Z",
          "shell.execute_reply": "2021-11-21T11:16:13.096665Z",
          "shell.execute_reply.started": "2021-11-21T10:29:04.712747Z"
        },
        "id": "ae1b2374",
        "papermill": {
          "duration": 0.118229,
          "end_time": "2021-11-21T11:16:13.096820",
          "exception": false,
          "start_time": "2021-11-21T11:16:12.978591",
          "status": "completed"
        },
        "tags": []
      },
      "source": [
        "optimizer = torch.optim.Adam(params=model.parameters(), lr=0.0001)\n",
        "criterion = torch.nn.CrossEntropyLoss()"
      ],
      "id": "ae1b2374",
      "execution_count": null,
      "outputs": []
    },
    {
      "cell_type": "markdown",
      "metadata": {
        "id": "3f6e5fa5",
        "papermill": {
          "duration": 0.108759,
          "end_time": "2021-11-21T11:16:13.314214",
          "exception": false,
          "start_time": "2021-11-21T11:16:13.205455",
          "status": "completed"
        },
        "tags": []
      },
      "source": [
        "# Допишите обучалку"
      ],
      "id": "3f6e5fa5"
    },
    {
      "cell_type": "code",
      "metadata": {
        "execution": {
          "iopub.execute_input": "2021-11-21T11:16:13.539820Z",
          "iopub.status.busy": "2021-11-21T11:16:13.538897Z",
          "iopub.status.idle": "2021-11-21T11:19:01.031830Z",
          "shell.execute_reply": "2021-11-21T11:19:01.032312Z",
          "shell.execute_reply.started": "2021-11-21T10:29:04.721059Z"
        },
        "id": "a7bf5448",
        "papermill": {
          "duration": 167.610947,
          "end_time": "2021-11-21T11:19:01.032470",
          "exception": false,
          "start_time": "2021-11-21T11:16:13.421523",
          "status": "completed"
        },
        "tags": [],
        "outputId": "d283fe14-b6ee-4794-f674-a02576b2d2c7"
      },
      "source": [
        "set_random_seed(142)\n",
        "\n",
        "epochs = 4\n",
        "\n",
        "losses = []\n",
        "\n",
        "for n_epoch in range(epochs):\n",
        "\n",
        "    try:\n",
        "\n",
        "        progress_bar = tqdm(total=len(dataset_loader.dataset), desc='Epoch {}'.format(n_epoch + 1))\n",
        "\n",
        "        for x, y in dataset_loader:\n",
        "\n",
        "            x = x.to('cuda')\n",
        "            y = y.to('cuda')\n",
        "            optimizer.zero_grad()\n",
        "            y_pred = model(x)\n",
        "            loss = criterion(y_pred, y)\n",
        "            loss.backward()  # считаем градиенты  \n",
        "            optimizer.step()\n",
        "            \n",
        "            \n",
        "            losses.append(loss.item())\n",
        "            \n",
        "            progress_bar.set_postfix(loss=np.mean(losses[-100:]))\n",
        "\n",
        "            progress_bar.update(x.shape[0])\n",
        "\n",
        "        progress_bar.close()\n",
        "\n",
        "    except KeyboardInterrupt:\n",
        "\n",
        "        progress_bar.close()\n",
        "        break"
      ],
      "id": "a7bf5448",
      "execution_count": null,
      "outputs": [
        {
          "name": "stderr",
          "output_type": "stream",
          "text": [
            "Epoch 1: 100%|██████████| 2983124/2983124 [00:41<00:00, 71248.81it/s, loss=9.2]\n",
            "Epoch 2: 100%|██████████| 2983124/2983124 [00:41<00:00, 72124.63it/s, loss=8.31]\n",
            "Epoch 3: 100%|██████████| 2983124/2983124 [00:42<00:00, 70397.18it/s, loss=7.72]\n",
            "Epoch 4: 100%|██████████| 2983124/2983124 [00:41<00:00, 71250.52it/s, loss=7.45]\n"
          ]
        }
      ]
    },
    {
      "cell_type": "code",
      "metadata": {
        "execution": {
          "iopub.execute_input": "2021-11-21T11:19:14.421367Z",
          "iopub.status.busy": "2021-11-21T11:19:14.420682Z",
          "iopub.status.idle": "2021-11-21T11:19:14.788908Z",
          "shell.execute_reply": "2021-11-21T11:19:14.789331Z",
          "shell.execute_reply.started": "2021-11-21T10:31:50.312557Z"
        },
        "id": "8df68f05",
        "papermill": {
          "duration": 6.939285,
          "end_time": "2021-11-21T11:19:14.789496",
          "exception": false,
          "start_time": "2021-11-21T11:19:07.850211",
          "status": "completed"
        },
        "tags": [],
        "outputId": "2745a230-6c14-4b56-b4a4-c6edfc5e4403"
      },
      "source": [
        "plt.title('SkipGram Training Process')\n",
        "plt.xlabel('Itearations')\n",
        "plt.ylabel('Loss')\n",
        "plt.grid()\n",
        "plt.plot(losses)"
      ],
      "id": "8df68f05",
      "execution_count": null,
      "outputs": [
        {
          "data": {
            "text/plain": [
              "[<matplotlib.lines.Line2D at 0x7f44a092da50>]"
            ]
          },
          "execution_count": 64,
          "metadata": {},
          "output_type": "execute_result"
        },
        {
          "data": {
            "image/png": "[encoded data removed]",
            "text/plain": [
              "<Figure size 1080x1080 with 1 Axes>"
            ]
          },
          "metadata": {
            "needs_background": "light"
          },
          "output_type": "display_data"
        }
      ]
    },
    {
      "cell_type": "markdown",
      "metadata": {
        "id": "147d0632",
        "papermill": {
          "duration": 6.785194,
          "end_time": "2021-11-21T11:19:28.908019",
          "exception": false,
          "start_time": "2021-11-21T11:19:22.122825",
          "status": "completed"
        },
        "tags": []
      },
      "source": [
        "Я добавила одну эпоху потому что иначе качество было 7,6"
      ],
      "id": "147d0632"
    },
    {
      "cell_type": "code",
      "metadata": {
        "execution": {
          "iopub.execute_input": "2021-11-21T11:19:42.083830Z",
          "iopub.status.busy": "2021-11-21T11:19:42.082931Z",
          "iopub.status.idle": "2021-11-21T11:19:42.085460Z",
          "shell.execute_reply": "2021-11-21T11:19:42.085014Z",
          "shell.execute_reply.started": "2021-11-21T10:31:50.717215Z"
        },
        "id": "4fd8602d",
        "papermill": {
          "duration": 6.721943,
          "end_time": "2021-11-21T11:19:42.085579",
          "exception": false,
          "start_time": "2021-11-21T11:19:35.363636",
          "status": "completed"
        },
        "tags": []
      },
      "source": [
        "# проверка, что хоть что-то выучилось\n",
        "assert np.mean(losses[-1000:]) < 7.5"
      ],
      "id": "4fd8602d",
      "execution_count": null,
      "outputs": []
    },
    {
      "cell_type": "code",
      "metadata": {
        "execution": {
          "iopub.execute_input": "2021-11-21T11:19:55.848117Z",
          "iopub.status.busy": "2021-11-21T11:19:55.847141Z",
          "iopub.status.idle": "2021-11-21T11:19:55.849010Z",
          "shell.execute_reply": "2021-11-21T11:19:55.849460Z",
          "shell.execute_reply.started": "2021-11-21T10:31:50.723068Z"
        },
        "id": "03106ff8",
        "papermill": {
          "duration": 6.465926,
          "end_time": "2021-11-21T11:19:55.849613",
          "exception": false,
          "start_time": "2021-11-21T11:19:49.383687",
          "status": "completed"
        },
        "tags": []
      },
      "source": [
        "embedding_matrix = model.in_embedding.weight.detach()"
      ],
      "id": "03106ff8",
      "execution_count": null,
      "outputs": []
    },
    {
      "cell_type": "code",
      "metadata": {
        "execution": {
          "iopub.execute_input": "2021-11-21T11:20:09.129255Z",
          "iopub.status.busy": "2021-11-21T11:20:09.128317Z",
          "iopub.status.idle": "2021-11-21T11:20:09.130408Z",
          "shell.execute_reply": "2021-11-21T11:20:09.130869Z",
          "shell.execute_reply.started": "2021-11-21T10:31:50.733348Z"
        },
        "id": "e1bc6f30",
        "papermill": {
          "duration": 6.533756,
          "end_time": "2021-11-21T11:20:09.131010",
          "exception": false,
          "start_time": "2021-11-21T11:20:02.597254",
          "status": "completed"
        },
        "tags": []
      },
      "source": [
        "def cos_sim(embedding_matrix, token2id, word1, word2):\n",
        "    \n",
        "    \n",
        "    i1 = token2id[word1] if word1 in token2id.keys() else token2id['UNK']\n",
        "    i2 = token2id[word2] if word2 in token2id.keys() else token2id['UNK']\n",
        "    \n",
        "    v1, v2 = embedding_matrix[i1], embedding_matrix[i2]\n",
        "    \n",
        "    v1_n = v1.div(v1.norm(keepdim=True))\n",
        "    v2_n = v2.div(v2.norm(keepdim=True))\n",
        "    \n",
        "    similarity = torch.dot(v1_n, v2_n).item()\n",
        "    \n",
        "    return similarity"
      ],
      "id": "e1bc6f30",
      "execution_count": null,
      "outputs": []
    },
    {
      "cell_type": "markdown",
      "metadata": {
        "id": "88a991f9",
        "papermill": {
          "duration": 7.188023,
          "end_time": "2021-11-21T11:20:23.076899",
          "exception": false,
          "start_time": "2021-11-21T11:20:15.888876",
          "status": "completed"
        },
        "tags": []
      },
      "source": [
        "# Косинусная близость\n",
        "От 0 до 1, где 0 - вектора абсолютно разные, где 1 - идентичные."
      ],
      "id": "88a991f9"
    },
    {
      "cell_type": "code",
      "metadata": {
        "execution": {
          "iopub.execute_input": "2021-11-21T11:20:36.350832Z",
          "iopub.status.busy": "2021-11-21T11:20:36.347749Z",
          "iopub.status.idle": "2021-11-21T11:20:36.363379Z",
          "shell.execute_reply": "2021-11-21T11:20:36.363808Z",
          "shell.execute_reply.started": "2021-11-21T10:31:50.743796Z"
        },
        "id": "823f8f25",
        "papermill": {
          "duration": 6.810382,
          "end_time": "2021-11-21T11:20:36.363959",
          "exception": false,
          "start_time": "2021-11-21T11:20:29.553577",
          "status": "completed"
        },
        "tags": [],
        "outputId": "b9747a09-e778-4d2c-c7a7-b986fc7fb098"
      },
      "source": [
        "cos_sim(embedding_matrix, word2index, 'день', 'месяц')"
      ],
      "id": "823f8f25",
      "execution_count": null,
      "outputs": [
        {
          "data": {
            "text/plain": [
              "0.01726238802075386"
            ]
          },
          "execution_count": 68,
          "metadata": {},
          "output_type": "execute_result"
        }
      ]
    },
    {
      "cell_type": "code",
      "metadata": {
        "execution": {
          "iopub.execute_input": "2021-11-21T11:20:49.719908Z",
          "iopub.status.busy": "2021-11-21T11:20:49.719059Z",
          "iopub.status.idle": "2021-11-21T11:20:49.723959Z",
          "shell.execute_reply": "2021-11-21T11:20:49.723498Z",
          "shell.execute_reply.started": "2021-11-21T10:31:50.764737Z"
        },
        "id": "ace8a653",
        "papermill": {
          "duration": 6.76285,
          "end_time": "2021-11-21T11:20:49.724082",
          "exception": false,
          "start_time": "2021-11-21T11:20:42.961232",
          "status": "completed"
        },
        "tags": [],
        "outputId": "68d9c103-78c8-4735-aede-865243239d34"
      },
      "source": [
        "cos_sim(embedding_matrix, word2index, 'минута', 'месяц')"
      ],
      "id": "ace8a653",
      "execution_count": null,
      "outputs": [
        {
          "data": {
            "text/plain": [
              "0.35283011198043823"
            ]
          },
          "execution_count": 69,
          "metadata": {},
          "output_type": "execute_result"
        }
      ]
    },
    {
      "cell_type": "code",
      "metadata": {
        "execution": {
          "iopub.execute_input": "2021-11-21T11:21:03.715817Z",
          "iopub.status.busy": "2021-11-21T11:21:03.714946Z",
          "iopub.status.idle": "2021-11-21T11:21:03.719649Z",
          "shell.execute_reply": "2021-11-21T11:21:03.719239Z",
          "shell.execute_reply.started": "2021-11-21T10:31:50.77317Z"
        },
        "id": "2f522e38",
        "papermill": {
          "duration": 6.587996,
          "end_time": "2021-11-21T11:21:03.719765",
          "exception": false,
          "start_time": "2021-11-21T11:20:57.131769",
          "status": "completed"
        },
        "tags": [],
        "outputId": "919f2d72-9818-42ea-882b-5b55270c6f7c"
      },
      "source": [
        "cos_sim(embedding_matrix, word2index, 'сотрудник', 'сотрудница')"
      ],
      "id": "2f522e38",
      "execution_count": null,
      "outputs": [
        {
          "data": {
            "text/plain": [
              "0.3001699447631836"
            ]
          },
          "execution_count": 70,
          "metadata": {},
          "output_type": "execute_result"
        }
      ]
    },
    {
      "cell_type": "code",
      "metadata": {
        "execution": {
          "iopub.execute_input": "2021-11-21T11:21:17.300017Z",
          "iopub.status.busy": "2021-11-21T11:21:17.298998Z",
          "iopub.status.idle": "2021-11-21T11:21:17.302346Z",
          "shell.execute_reply": "2021-11-21T11:21:17.302716Z",
          "shell.execute_reply.started": "2021-11-21T10:31:50.783331Z"
        },
        "id": "f791de31",
        "papermill": {
          "duration": 6.800777,
          "end_time": "2021-11-21T11:21:17.302893",
          "exception": false,
          "start_time": "2021-11-21T11:21:10.502116",
          "status": "completed"
        },
        "tags": [],
        "outputId": "64df7685-957a-4d6a-d6c7-8d64f9ccf9ea"
      },
      "source": [
        "cos_sim(embedding_matrix, word2index, 'вклад', 'перевод')"
      ],
      "id": "f791de31",
      "execution_count": null,
      "outputs": [
        {
          "data": {
            "text/plain": [
              "0.27515649795532227"
            ]
          },
          "execution_count": 71,
          "metadata": {},
          "output_type": "execute_result"
        }
      ]
    },
    {
      "cell_type": "code",
      "metadata": {
        "execution": {
          "iopub.execute_input": "2021-11-21T11:21:31.075076Z",
          "iopub.status.busy": "2021-11-21T11:21:31.074027Z",
          "iopub.status.idle": "2021-11-21T11:21:31.079984Z",
          "shell.execute_reply": "2021-11-21T11:21:31.079526Z",
          "shell.execute_reply.started": "2021-11-21T10:31:50.791515Z"
        },
        "id": "aee60413",
        "papermill": {
          "duration": 7.292254,
          "end_time": "2021-11-21T11:21:31.080123",
          "exception": false,
          "start_time": "2021-11-21T11:21:23.787869",
          "status": "completed"
        },
        "tags": [],
        "outputId": "ebc36b95-b7d5-49c1-b7d6-9b1523387c7c"
      },
      "source": [
        "random_word = random.choice(list(word2index.keys()))\n",
        "sim = cos_sim(embedding_matrix, word2index, 'день', random_word)\n",
        "'Косинусная близость слова \"день\" к случайному выбраному слову \"{}\" равна {:.3f}'.format(random_word, sim)"
      ],
      "id": "aee60413",
      "execution_count": null,
      "outputs": [
        {
          "data": {
            "text/plain": [
              "'Косинусная близость слова \"день\" к случайному выбраному слову \"вынуть\" равна -0.029'"
            ]
          },
          "execution_count": 72,
          "metadata": {},
          "output_type": "execute_result"
        }
      ]
    },
    {
      "cell_type": "code",
      "metadata": {
        "execution": {
          "iopub.execute_input": "2021-11-21T11:21:44.382403Z",
          "iopub.status.busy": "2021-11-21T11:21:44.381540Z",
          "iopub.status.idle": "2021-11-21T11:21:44.654043Z",
          "shell.execute_reply": "2021-11-21T11:21:44.653537Z",
          "shell.execute_reply.started": "2021-11-21T10:31:50.802412Z"
        },
        "id": "69a7c1c7",
        "papermill": {
          "duration": 6.982479,
          "end_time": "2021-11-21T11:21:44.654188",
          "exception": false,
          "start_time": "2021-11-21T11:21:37.671709",
          "status": "completed"
        },
        "tags": []
      },
      "source": [
        "freq = {}\n",
        "\n",
        "for text in corpus:\n",
        "    for token in text:\n",
        "        if token in freq:\n",
        "            freq[token] += 1\n",
        "        else:\n",
        "            freq[token] = 1"
      ],
      "id": "69a7c1c7",
      "execution_count": null,
      "outputs": []
    },
    {
      "cell_type": "code",
      "metadata": {
        "execution": {
          "iopub.execute_input": "2021-11-21T11:21:57.959417Z",
          "iopub.status.busy": "2021-11-21T11:21:57.949773Z",
          "iopub.status.idle": "2021-11-21T11:21:57.961875Z",
          "shell.execute_reply": "2021-11-21T11:21:57.961405Z",
          "shell.execute_reply.started": "2021-11-21T10:31:51.090916Z"
        },
        "id": "b4720e95",
        "papermill": {
          "duration": 6.594091,
          "end_time": "2021-11-21T11:21:57.962009",
          "exception": false,
          "start_time": "2021-11-21T11:21:51.367918",
          "status": "completed"
        },
        "tags": []
      },
      "source": [
        "sorted_freq = [(k, freq[k]) for k in sorted(freq, key=freq.get, reverse=True)]\n",
        "top_sorted_freq = sorted_freq[0:200]"
      ],
      "id": "b4720e95",
      "execution_count": null,
      "outputs": []
    },
    {
      "cell_type": "code",
      "metadata": {
        "execution": {
          "iopub.execute_input": "2021-11-21T11:22:12.086929Z",
          "iopub.status.busy": "2021-11-21T11:22:12.085758Z",
          "iopub.status.idle": "2021-11-21T11:24:17.022165Z",
          "shell.execute_reply": "2021-11-21T11:24:17.022642Z",
          "shell.execute_reply.started": "2021-11-21T10:31:51.104683Z"
        },
        "id": "f8d911bd",
        "papermill": {
          "duration": 131.701755,
          "end_time": "2021-11-21T11:24:17.022840",
          "exception": false,
          "start_time": "2021-11-21T11:22:05.321085",
          "status": "completed"
        },
        "tags": [],
        "outputId": "d37afd3a-05cd-4cb5-b0bc-ab9fd4812545"
      },
      "source": [
        "tsne = TSNE(n_components=2, init='pca', random_state=42, verbose=2)\n",
        "reduced = tsne.fit_transform(embedding_matrix.cpu())"
      ],
      "id": "f8d911bd",
      "execution_count": null,
      "outputs": [
        {
          "name": "stdout",
          "output_type": "stream",
          "text": [
            "[t-SNE] Computing 91 nearest neighbors...\n",
            "[t-SNE] Indexed 13076 samples in 0.030s...\n",
            "[t-SNE] Computed neighbors for 13076 samples in 7.851s...\n",
            "[t-SNE] Computed conditional probabilities for sample 1000 / 13076\n",
            "[t-SNE] Computed conditional probabilities for sample 2000 / 13076\n",
            "[t-SNE] Computed conditional probabilities for sample 3000 / 13076\n",
            "[t-SNE] Computed conditional probabilities for sample 4000 / 13076\n",
            "[t-SNE] Computed conditional probabilities for sample 5000 / 13076\n",
            "[t-SNE] Computed conditional probabilities for sample 6000 / 13076\n",
            "[t-SNE] Computed conditional probabilities for sample 7000 / 13076\n",
            "[t-SNE] Computed conditional probabilities for sample 8000 / 13076\n",
            "[t-SNE] Computed conditional probabilities for sample 9000 / 13076\n",
            "[t-SNE] Computed conditional probabilities for sample 10000 / 13076\n",
            "[t-SNE] Computed conditional probabilities for sample 11000 / 13076\n",
            "[t-SNE] Computed conditional probabilities for sample 12000 / 13076\n",
            "[t-SNE] Computed conditional probabilities for sample 13000 / 13076\n",
            "[t-SNE] Computed conditional probabilities for sample 13076 / 13076\n",
            "[t-SNE] Mean sigma: 1.208829\n",
            "[t-SNE] Computed conditional probabilities in 0.567s\n",
            "[t-SNE] Iteration 50: error = 98.8236237, gradient norm = 0.0000005 (50 iterations in 6.608s)\n",
            "[t-SNE] Iteration 100: error = 98.8245239, gradient norm = 0.0000000 (50 iterations in 4.020s)\n",
            "[t-SNE] Iteration 100: gradient norm 0.000000. Finished.\n",
            "[t-SNE] KL divergence after 100 iterations with early exaggeration: 98.824524\n",
            "[t-SNE] Iteration 150: error = 5.7486653, gradient norm = 0.0000005 (50 iterations in 5.581s)\n",
            "[t-SNE] Iteration 200: error = 5.0879345, gradient norm = 0.0008643 (50 iterations in 10.266s)\n",
            "[t-SNE] Iteration 250: error = 4.9501705, gradient norm = 0.0004129 (50 iterations in 4.949s)\n",
            "[t-SNE] Iteration 300: error = 4.8610706, gradient norm = 0.0002839 (50 iterations in 5.344s)\n",
            "[t-SNE] Iteration 350: error = 4.7915683, gradient norm = 0.0002123 (50 iterations in 4.908s)\n",
            "[t-SNE] Iteration 400: error = 4.7359328, gradient norm = 0.0001670 (50 iterations in 5.985s)\n",
            "[t-SNE] Iteration 450: error = 4.6909881, gradient norm = 0.0001366 (50 iterations in 5.061s)\n",
            "[t-SNE] Iteration 500: error = 4.6535616, gradient norm = 0.0001117 (50 iterations in 10.322s)\n",
            "[t-SNE] Iteration 550: error = 4.6221914, gradient norm = 0.0000934 (50 iterations in 6.814s)\n",
            "[t-SNE] Iteration 600: error = 4.5954967, gradient norm = 0.0000809 (50 iterations in 4.872s)\n",
            "[t-SNE] Iteration 650: error = 4.5729370, gradient norm = 0.0000702 (50 iterations in 5.789s)\n",
            "[t-SNE] Iteration 700: error = 4.5533762, gradient norm = 0.0000627 (50 iterations in 4.859s)\n",
            "[t-SNE] Iteration 750: error = 4.5366426, gradient norm = 0.0000559 (50 iterations in 5.249s)\n",
            "[t-SNE] Iteration 800: error = 4.5222569, gradient norm = 0.0000530 (50 iterations in 4.855s)\n",
            "[t-SNE] Iteration 850: error = 4.5099292, gradient norm = 0.0000484 (50 iterations in 4.853s)\n",
            "[t-SNE] Iteration 900: error = 4.4992294, gradient norm = 0.0000434 (50 iterations in 5.257s)\n",
            "[t-SNE] Iteration 950: error = 4.4897871, gradient norm = 0.0000395 (50 iterations in 4.918s)\n",
            "[t-SNE] Iteration 1000: error = 4.4814043, gradient norm = 0.0000376 (50 iterations in 5.932s)\n",
            "[t-SNE] KL divergence after 1000 iterations: 4.481404\n"
          ]
        }
      ]
    },
    {
      "cell_type": "code",
      "metadata": {
        "execution": {
          "iopub.execute_input": "2021-11-21T11:24:30.488517Z",
          "iopub.status.busy": "2021-11-21T11:24:30.487514Z",
          "iopub.status.idle": "2021-11-21T11:24:30.489384Z",
          "shell.execute_reply": "2021-11-21T11:24:30.489814Z",
          "shell.execute_reply.started": "2021-11-21T10:33:47.956235Z"
        },
        "id": "513ef8be",
        "papermill": {
          "duration": 6.569329,
          "end_time": "2021-11-21T11:24:30.489969",
          "exception": false,
          "start_time": "2021-11-21T11:24:23.920640",
          "status": "completed"
        },
        "tags": []
      },
      "source": [
        "top_words = [a for a,_ in top_sorted_freq]"
      ],
      "id": "513ef8be",
      "execution_count": null,
      "outputs": []
    },
    {
      "cell_type": "code",
      "metadata": {
        "execution": {
          "iopub.execute_input": "2021-11-21T11:24:43.708322Z",
          "iopub.status.busy": "2021-11-21T11:24:43.706809Z",
          "iopub.status.idle": "2021-11-21T11:24:43.708934Z",
          "shell.execute_reply": "2021-11-21T11:24:43.709354Z",
          "shell.execute_reply.started": "2021-11-21T10:33:47.974348Z"
        },
        "id": "efbcc10b",
        "papermill": {
          "duration": 6.514664,
          "end_time": "2021-11-21T11:24:43.709491",
          "exception": false,
          "start_time": "2021-11-21T11:24:37.194827",
          "status": "completed"
        },
        "tags": []
      },
      "source": [
        "inds = [word2index[word] for word in top_words]\n",
        "x_coords = [coords[0] for coords in reduced[inds]]\n",
        "y_coords = [coords[1] for coords in reduced[inds]]"
      ],
      "id": "efbcc10b",
      "execution_count": null,
      "outputs": []
    },
    {
      "cell_type": "code",
      "metadata": {
        "execution": {
          "iopub.execute_input": "2021-11-21T11:24:57.723987Z",
          "iopub.status.busy": "2021-11-21T11:24:57.723248Z",
          "iopub.status.idle": "2021-11-21T11:24:59.919005Z",
          "shell.execute_reply": "2021-11-21T11:24:59.918388Z",
          "shell.execute_reply.started": "2021-11-21T10:33:51.202136Z"
        },
        "id": "dbcee0b9",
        "papermill": {
          "duration": 8.937759,
          "end_time": "2021-11-21T11:24:59.919191",
          "exception": false,
          "start_time": "2021-11-21T11:24:50.981432",
          "status": "completed"
        },
        "tags": [],
        "outputId": "61457793-209a-4ce8-cf8b-d14c53d611eb"
      },
      "source": [
        "! wget https://rusvectores.org/static/testsets/ru_simlex965_tagged.tsv"
      ],
      "id": "dbcee0b9",
      "execution_count": null,
      "outputs": [
        {
          "name": "stdout",
          "output_type": "stream",
          "text": [
            "--2021-11-21 11:24:58--  https://rusvectores.org/static/testsets/ru_simlex965_tagged.tsv\r\n",
            "Resolving rusvectores.org (rusvectores.org)... 116.203.104.23\r\n",
            "Connecting to rusvectores.org (rusvectores.org)|116.203.104.23|:443... connected.\r\n",
            "HTTP request sent, awaiting response... 200 OK\r\n",
            "Length: 42924 (42K) [text/tab-separated-values]\r\n",
            "Saving to: ‘ru_simlex965_tagged.tsv’\r\n",
            "\r\n",
            "ru_simlex965_tagged 100%[===================>]  41.92K   159KB/s    in 0.3s    \r\n",
            "\r\n",
            "2021-11-21 11:24:59 (159 KB/s) - ‘ru_simlex965_tagged.tsv’ saved [42924/42924]\r\n",
            "\r\n"
          ]
        }
      ]
    },
    {
      "cell_type": "markdown",
      "metadata": {
        "id": "5d331a60",
        "papermill": {
          "duration": 6.783752,
          "end_time": "2021-11-21T11:25:13.203724",
          "exception": false,
          "start_time": "2021-11-21T11:25:06.419972",
          "status": "completed"
        },
        "tags": []
      },
      "source": [
        "# Оценка\n",
        "1. Вы добрались сюда и все работает, значит уже получили 7 баллов.\n",
        "2. 8 баллов - Взяли корпус для оценка качества эмбеддингов [здесь](https://rusvectores.org/static/testsets/ru_simlex965_tagged.tsv). Описание к нему [здесь](https://arxiv.org/pdf/1801.06407.pdf). Его английская версия для понимания, того что же это такое [тут](https://fh295.github.io/simlex.html). Если в кратце - он похож а гугл аналогии, просто иначе составлен. Определили качество своих эмбеддингов. Как качество измерить? Можете все значения отнормировать (привести к 1) и затем считать MSE между тем что у вас и что в оригинале.\n",
        "3. 9 баллов - Поставили эксперименты, поменяли любые параметры, хоть корпус увеличили или как то почистили. Показали метрики до и после. После должно быть лучше, иначе это все еще 8 баллов.\n",
        "4. 10 баллов - удивили своим подходом (или просто удивили) пока делили на 9 баллов"
      ],
      "id": "5d331a60"
    },
    {
      "cell_type": "markdown",
      "metadata": {
        "id": "6b831dc9",
        "papermill": {
          "duration": 6.392027,
          "end_time": "2021-11-21T11:25:26.859192",
          "exception": false,
          "start_time": "2021-11-21T11:25:20.467165",
          "status": "completed"
        },
        "tags": []
      },
      "source": [
        "# Работа с корпусом"
      ],
      "id": "6b831dc9"
    },
    {
      "cell_type": "code",
      "metadata": {
        "execution": {
          "iopub.execute_input": "2021-11-21T11:25:40.221080Z",
          "iopub.status.busy": "2021-11-21T11:25:40.220278Z",
          "iopub.status.idle": "2021-11-21T11:25:40.222246Z",
          "shell.execute_reply": "2021-11-21T11:25:40.222739Z",
          "shell.execute_reply.started": "2021-11-21T10:33:52.705334Z"
        },
        "id": "0128e792",
        "papermill": {
          "duration": 6.626611,
          "end_time": "2021-11-21T11:25:40.222935",
          "exception": false,
          "start_time": "2021-11-21T11:25:33.596324",
          "status": "completed"
        },
        "tags": []
      },
      "source": [
        "import pandas as pd\n",
        "from sklearn.preprocessing import MinMaxScaler\n",
        "from sklearn.metrics import mean_squared_error"
      ],
      "id": "0128e792",
      "execution_count": null,
      "outputs": []
    },
    {
      "cell_type": "code",
      "metadata": {
        "execution": {
          "iopub.execute_input": "2021-11-21T11:25:54.059622Z",
          "iopub.status.busy": "2021-11-21T11:25:54.058807Z",
          "iopub.status.idle": "2021-11-21T11:25:54.082375Z",
          "shell.execute_reply": "2021-11-21T11:25:54.082854Z",
          "shell.execute_reply.started": "2021-11-21T10:33:52.711435Z"
        },
        "id": "17368945",
        "papermill": {
          "duration": 7.192972,
          "end_time": "2021-11-21T11:25:54.083017",
          "exception": false,
          "start_time": "2021-11-21T11:25:46.890045",
          "status": "completed"
        },
        "pycharm": {
          "name": "#%%\n"
        },
        "tags": [],
        "outputId": "97e2dbce-61d3-4ee2-fcb1-b90414da9553"
      },
      "source": [
        "scaler = MinMaxScaler()  \n",
        "df = pd.read_csv('ru_simlex965_tagged.tsv', sep='\\t')\n",
        "df"
      ],
      "id": "17368945",
      "execution_count": null,
      "outputs": [
        {
          "data": {
            "text/html": [
              "<div>\n",
              "<style scoped>\n",
              "    .dataframe tbody tr th:only-of-type {\n",
              "        vertical-align: middle;\n",
              "    }\n",
              "\n",
              "    .dataframe tbody tr th {\n",
              "        vertical-align: top;\n",
              "    }\n",
              "\n",
              "    .dataframe thead th {\n",
              "        text-align: right;\n",
              "    }\n",
              "</style>\n",
              "<table border=\"1\" class=\"dataframe\">\n",
              "  <thead>\n",
              "    <tr style=\"text-align: right;\">\n",
              "      <th></th>\n",
              "      <th># Word1</th>\n",
              "      <th>Word2</th>\n",
              "      <th>Average Score</th>\n",
              "    </tr>\n",
              "  </thead>\n",
              "  <tbody>\n",
              "    <tr>\n",
              "      <th>0</th>\n",
              "      <td>авария_NOUN</td>\n",
              "      <td>бедствие_NOUN</td>\n",
              "      <td>6.15</td>\n",
              "    </tr>\n",
              "    <tr>\n",
              "      <th>1</th>\n",
              "      <td>август_NOUN</td>\n",
              "      <td>месяц_NOUN</td>\n",
              "      <td>2.85</td>\n",
              "    </tr>\n",
              "    <tr>\n",
              "      <th>2</th>\n",
              "      <td>авиация_NOUN</td>\n",
              "      <td>полет_NOUN</td>\n",
              "      <td>6.77</td>\n",
              "    </tr>\n",
              "    <tr>\n",
              "      <th>3</th>\n",
              "      <td>автомобиль_NOUN</td>\n",
              "      <td>гудок_NOUN</td>\n",
              "      <td>1.85</td>\n",
              "    </tr>\n",
              "    <tr>\n",
              "      <th>4</th>\n",
              "      <td>автомобиль_NOUN</td>\n",
              "      <td>автострада_NOUN</td>\n",
              "      <td>1.23</td>\n",
              "    </tr>\n",
              "    <tr>\n",
              "      <th>...</th>\n",
              "      <td>...</td>\n",
              "      <td>...</td>\n",
              "      <td>...</td>\n",
              "    </tr>\n",
              "    <tr>\n",
              "      <th>960</th>\n",
              "      <td>яблоко_NOUN</td>\n",
              "      <td>солнце_NOUN</td>\n",
              "      <td>0.15</td>\n",
              "    </tr>\n",
              "    <tr>\n",
              "      <th>961</th>\n",
              "      <td>ядро_NOUN</td>\n",
              "      <td>пушка_NOUN</td>\n",
              "      <td>2.77</td>\n",
              "    </tr>\n",
              "    <tr>\n",
              "      <th>962</th>\n",
              "      <td>язык_NOUN</td>\n",
              "      <td>горло_NOUN</td>\n",
              "      <td>1.38</td>\n",
              "    </tr>\n",
              "    <tr>\n",
              "      <th>963</th>\n",
              "      <td>ярд_NOUN</td>\n",
              "      <td>дюйм_NOUN</td>\n",
              "      <td>2.62</td>\n",
              "    </tr>\n",
              "    <tr>\n",
              "      <th>964</th>\n",
              "      <td>яростный_ADJ</td>\n",
              "      <td>злой_ADJ</td>\n",
              "      <td>7.46</td>\n",
              "    </tr>\n",
              "  </tbody>\n",
              "</table>\n",
              "<p>965 rows × 3 columns</p>\n",
              "</div>"
            ],
            "text/plain": [
              "             # Word1            Word2  Average Score\n",
              "0        авария_NOUN    бедствие_NOUN           6.15\n",
              "1        август_NOUN       месяц_NOUN           2.85\n",
              "2       авиация_NOUN       полет_NOUN           6.77\n",
              "3    автомобиль_NOUN       гудок_NOUN           1.85\n",
              "4    автомобиль_NOUN  автострада_NOUN           1.23\n",
              "..               ...              ...            ...\n",
              "960      яблоко_NOUN      солнце_NOUN           0.15\n",
              "961        ядро_NOUN       пушка_NOUN           2.77\n",
              "962        язык_NOUN       горло_NOUN           1.38\n",
              "963         ярд_NOUN        дюйм_NOUN           2.62\n",
              "964     яростный_ADJ         злой_ADJ           7.46\n",
              "\n",
              "[965 rows x 3 columns]"
            ]
          },
          "execution_count": 80,
          "metadata": {},
          "output_type": "execute_result"
        }
      ]
    },
    {
      "cell_type": "code",
      "metadata": {
        "execution": {
          "iopub.execute_input": "2021-11-21T11:26:07.462660Z",
          "iopub.status.busy": "2021-11-21T11:26:07.462038Z",
          "iopub.status.idle": "2021-11-21T11:26:07.464718Z",
          "shell.execute_reply": "2021-11-21T11:26:07.465157Z",
          "shell.execute_reply.started": "2021-11-21T10:33:52.745999Z"
        },
        "id": "2cc68daa",
        "papermill": {
          "duration": 6.861272,
          "end_time": "2021-11-21T11:26:07.465299",
          "exception": false,
          "start_time": "2021-11-21T11:26:00.604027",
          "status": "completed"
        },
        "tags": [],
        "outputId": "71470098-05fe-4c62-e2c0-7dded23f4c2d"
      },
      "source": [
        "df.columns"
      ],
      "id": "2cc68daa",
      "execution_count": null,
      "outputs": [
        {
          "data": {
            "text/plain": [
              "Index(['# Word1', 'Word2', 'Average Score'], dtype='object')"
            ]
          },
          "execution_count": 81,
          "metadata": {},
          "output_type": "execute_result"
        }
      ]
    },
    {
      "cell_type": "code",
      "metadata": {
        "execution": {
          "iopub.execute_input": "2021-11-21T11:26:20.635250Z",
          "iopub.status.busy": "2021-11-21T11:26:20.634421Z",
          "iopub.status.idle": "2021-11-21T11:26:20.636559Z",
          "shell.execute_reply": "2021-11-21T11:26:20.636972Z",
          "shell.execute_reply.started": "2021-11-21T10:33:52.753985Z"
        },
        "id": "f7d6e9d3",
        "papermill": {
          "duration": 6.431423,
          "end_time": "2021-11-21T11:26:20.637132",
          "exception": false,
          "start_time": "2021-11-21T11:26:14.205709",
          "status": "completed"
        },
        "tags": []
      },
      "source": [
        "df['# Word1'] = df['# Word1'].apply(lambda x: x.split('_')[0]) # Убираем пос теги\n",
        "df.Word2 = df.Word2.apply(lambda x: x.split('_')[0])\n",
        "df['Average Score'] = scaler.fit_transform(df['Average Score'].to_numpy().reshape(-1, 1)) # Переносим скоры в отрезок от 0 до 1"
      ],
      "id": "f7d6e9d3",
      "execution_count": null,
      "outputs": []
    },
    {
      "cell_type": "code",
      "metadata": {
        "execution": {
          "iopub.execute_input": "2021-11-21T11:26:34.585830Z",
          "iopub.status.busy": "2021-11-21T11:26:34.584942Z",
          "iopub.status.idle": "2021-11-21T11:26:34.741166Z",
          "shell.execute_reply": "2021-11-21T11:26:34.740563Z",
          "shell.execute_reply.started": "2021-11-21T10:33:52.767434Z"
        },
        "id": "9d060db5",
        "papermill": {
          "duration": 6.787494,
          "end_time": "2021-11-21T11:26:34.741342",
          "exception": false,
          "start_time": "2021-11-21T11:26:27.953848",
          "status": "completed"
        },
        "tags": []
      },
      "source": [
        "df['pred_score'] = df.apply(lambda x: \n",
        "                            cos_sim(embedding_matrix, word2index, \n",
        "                                    x['# Word1'], x['Word2']), axis=1)  # Считаем скоры нашей модели\n",
        "df['pred_score'] = scaler.fit_transform(df['pred_score'].to_numpy().reshape(-1, 1))  # Переносим в отрезок от 0 до 1"
      ],
      "id": "9d060db5",
      "execution_count": null,
      "outputs": []
    },
    {
      "cell_type": "code",
      "metadata": {
        "execution": {
          "iopub.execute_input": "2021-11-21T11:26:48.197325Z",
          "iopub.status.busy": "2021-11-21T11:26:48.193897Z",
          "iopub.status.idle": "2021-11-21T11:26:48.200226Z",
          "shell.execute_reply": "2021-11-21T11:26:48.200697Z",
          "shell.execute_reply.started": "2021-11-21T10:33:52.929936Z"
        },
        "id": "793f2a73",
        "papermill": {
          "duration": 6.722112,
          "end_time": "2021-11-21T11:26:48.200859",
          "exception": false,
          "start_time": "2021-11-21T11:26:41.478747",
          "status": "completed"
        },
        "tags": [],
        "outputId": "45c56845-ce7f-46d8-af06-e371a473411e"
      },
      "source": [
        "df"
      ],
      "id": "793f2a73",
      "execution_count": null,
      "outputs": [
        {
          "data": {
            "text/html": [
              "<div>\n",
              "<style scoped>\n",
              "    .dataframe tbody tr th:only-of-type {\n",
              "        vertical-align: middle;\n",
              "    }\n",
              "\n",
              "    .dataframe tbody tr th {\n",
              "        vertical-align: top;\n",
              "    }\n",
              "\n",
              "    .dataframe thead th {\n",
              "        text-align: right;\n",
              "    }\n",
              "</style>\n",
              "<table border=\"1\" class=\"dataframe\">\n",
              "  <thead>\n",
              "    <tr style=\"text-align: right;\">\n",
              "      <th></th>\n",
              "      <th># Word1</th>\n",
              "      <th>Word2</th>\n",
              "      <th>Average Score</th>\n",
              "      <th>pred_score</th>\n",
              "    </tr>\n",
              "  </thead>\n",
              "  <tbody>\n",
              "    <tr>\n",
              "      <th>0</th>\n",
              "      <td>авария</td>\n",
              "      <td>бедствие</td>\n",
              "      <td>0.615</td>\n",
              "      <td>0.294357</td>\n",
              "    </tr>\n",
              "    <tr>\n",
              "      <th>1</th>\n",
              "      <td>август</td>\n",
              "      <td>месяц</td>\n",
              "      <td>0.285</td>\n",
              "      <td>0.603072</td>\n",
              "    </tr>\n",
              "    <tr>\n",
              "      <th>2</th>\n",
              "      <td>авиация</td>\n",
              "      <td>полет</td>\n",
              "      <td>0.677</td>\n",
              "      <td>1.000000</td>\n",
              "    </tr>\n",
              "    <tr>\n",
              "      <th>3</th>\n",
              "      <td>автомобиль</td>\n",
              "      <td>гудок</td>\n",
              "      <td>0.185</td>\n",
              "      <td>0.490140</td>\n",
              "    </tr>\n",
              "    <tr>\n",
              "      <th>4</th>\n",
              "      <td>автомобиль</td>\n",
              "      <td>автострада</td>\n",
              "      <td>0.123</td>\n",
              "      <td>0.442681</td>\n",
              "    </tr>\n",
              "    <tr>\n",
              "      <th>...</th>\n",
              "      <td>...</td>\n",
              "      <td>...</td>\n",
              "      <td>...</td>\n",
              "      <td>...</td>\n",
              "    </tr>\n",
              "    <tr>\n",
              "      <th>960</th>\n",
              "      <td>яблоко</td>\n",
              "      <td>солнце</td>\n",
              "      <td>0.015</td>\n",
              "      <td>0.349513</td>\n",
              "    </tr>\n",
              "    <tr>\n",
              "      <th>961</th>\n",
              "      <td>ядро</td>\n",
              "      <td>пушка</td>\n",
              "      <td>0.277</td>\n",
              "      <td>1.000000</td>\n",
              "    </tr>\n",
              "    <tr>\n",
              "      <th>962</th>\n",
              "      <td>язык</td>\n",
              "      <td>горло</td>\n",
              "      <td>0.138</td>\n",
              "      <td>0.543653</td>\n",
              "    </tr>\n",
              "    <tr>\n",
              "      <th>963</th>\n",
              "      <td>ярд</td>\n",
              "      <td>дюйм</td>\n",
              "      <td>0.262</td>\n",
              "      <td>1.000000</td>\n",
              "    </tr>\n",
              "    <tr>\n",
              "      <th>964</th>\n",
              "      <td>яростный</td>\n",
              "      <td>злой</td>\n",
              "      <td>0.746</td>\n",
              "      <td>0.223687</td>\n",
              "    </tr>\n",
              "  </tbody>\n",
              "</table>\n",
              "<p>965 rows × 4 columns</p>\n",
              "</div>"
            ],
            "text/plain": [
              "        # Word1       Word2  Average Score  pred_score\n",
              "0        авария    бедствие          0.615    0.294357\n",
              "1        август       месяц          0.285    0.603072\n",
              "2       авиация       полет          0.677    1.000000\n",
              "3    автомобиль       гудок          0.185    0.490140\n",
              "4    автомобиль  автострада          0.123    0.442681\n",
              "..          ...         ...            ...         ...\n",
              "960      яблоко      солнце          0.015    0.349513\n",
              "961        ядро       пушка          0.277    1.000000\n",
              "962        язык       горло          0.138    0.543653\n",
              "963         ярд        дюйм          0.262    1.000000\n",
              "964    яростный        злой          0.746    0.223687\n",
              "\n",
              "[965 rows x 4 columns]"
            ]
          },
          "execution_count": 84,
          "metadata": {},
          "output_type": "execute_result"
        }
      ]
    },
    {
      "cell_type": "code",
      "metadata": {
        "execution": {
          "iopub.execute_input": "2021-11-21T11:27:01.989404Z",
          "iopub.status.busy": "2021-11-21T11:27:01.988861Z",
          "iopub.status.idle": "2021-11-21T11:27:01.993814Z",
          "shell.execute_reply": "2021-11-21T11:27:01.993361Z",
          "shell.execute_reply.started": "2021-11-21T10:33:52.946259Z"
        },
        "id": "9a3b560c",
        "papermill": {
          "duration": 7.337672,
          "end_time": "2021-11-21T11:27:01.993941",
          "exception": false,
          "start_time": "2021-11-21T11:26:54.656269",
          "status": "completed"
        },
        "tags": [],
        "outputId": "89337966-3f31-4203-c0eb-ff25e4974c38"
      },
      "source": [
        "mean_squared_error(df['Average Score'], df['pred_score'])"
      ],
      "id": "9a3b560c",
      "execution_count": null,
      "outputs": [
        {
          "data": {
            "text/plain": [
              "0.16506345601622796"
            ]
          },
          "execution_count": 85,
          "metadata": {},
          "output_type": "execute_result"
        }
      ]
    },
    {
      "cell_type": "markdown",
      "metadata": {
        "id": "7390ee19",
        "papermill": {
          "duration": 6.474468,
          "end_time": "2021-11-21T11:27:15.268039",
          "exception": false,
          "start_time": "2021-11-21T11:27:08.793571",
          "status": "completed"
        },
        "tags": []
      },
      "source": [
        "# Эксперименты для улучшения качества"
      ],
      "id": "7390ee19"
    },
    {
      "cell_type": "markdown",
      "metadata": {
        "id": "32f82ddf",
        "papermill": {
          "duration": 6.642201,
          "end_time": "2021-11-21T11:27:28.698543",
          "exception": false,
          "start_time": "2021-11-21T11:27:22.056342",
          "status": "completed"
        },
        "tags": []
      },
      "source": [
        "Увеличим размер эмбеддингов, число эпох и поставим шедулер на лернинг рэйт чтобы не перескочить минимум. На самом деле тут было несколько экспериментов с гиперпараметрами, я оставила лучший набор"
      ],
      "id": "32f82ddf"
    },
    {
      "cell_type": "code",
      "metadata": {
        "execution": {
          "iopub.execute_input": "2021-11-21T11:27:42.825679Z",
          "iopub.status.busy": "2021-11-21T11:27:42.824747Z",
          "iopub.status.idle": "2021-11-21T11:27:42.827004Z",
          "shell.execute_reply": "2021-11-21T11:27:42.827472Z",
          "shell.execute_reply.started": "2021-11-21T10:33:52.955732Z"
        },
        "id": "5788cd73",
        "papermill": {
          "duration": 6.845736,
          "end_time": "2021-11-21T11:27:42.827622",
          "exception": false,
          "start_time": "2021-11-21T11:27:35.981886",
          "status": "completed"
        },
        "tags": []
      },
      "source": [
        "from torch.optim.lr_scheduler import ExponentialLR"
      ],
      "id": "5788cd73",
      "execution_count": null,
      "outputs": []
    },
    {
      "cell_type": "code",
      "metadata": {
        "execution": {
          "iopub.execute_input": "2021-11-21T11:27:56.059793Z",
          "iopub.status.busy": "2021-11-21T11:27:56.058964Z",
          "iopub.status.idle": "2021-11-21T11:27:56.072522Z",
          "shell.execute_reply": "2021-11-21T11:27:56.072086Z",
          "shell.execute_reply.started": "2021-11-21T10:33:52.964831Z"
        },
        "id": "01532acd",
        "papermill": {
          "duration": 6.788333,
          "end_time": "2021-11-21T11:27:56.072650",
          "exception": false,
          "start_time": "2021-11-21T11:27:49.284317",
          "status": "completed"
        },
        "tags": []
      },
      "source": [
        "EMBEDDING_DIM = 40\n",
        "model = SkipGram(vocab_size=len(word2index), embedding_dim=EMBEDDING_DIM).to('cuda')\n",
        "optimizer = torch.optim.Adam(params=model.parameters(), lr=0.00015)\n",
        "criterion = torch.nn.CrossEntropyLoss()\n",
        "scheduler = ExponentialLR(optimizer, gamma=0.7)\n",
        "epochs = 10"
      ],
      "id": "01532acd",
      "execution_count": null,
      "outputs": []
    },
    {
      "cell_type": "code",
      "metadata": {
        "execution": {
          "iopub.execute_input": "2021-11-21T11:28:09.700264Z",
          "iopub.status.busy": "2021-11-21T11:28:09.699185Z",
          "iopub.status.idle": "2021-11-21T11:28:09.701008Z",
          "shell.execute_reply": "2021-11-21T11:28:09.701520Z",
          "shell.execute_reply.started": "2021-11-21T10:33:52.984978Z"
        },
        "id": "b60644b9",
        "papermill": {
          "duration": 7.160523,
          "end_time": "2021-11-21T11:28:09.701666",
          "exception": false,
          "start_time": "2021-11-21T11:28:02.541143",
          "status": "completed"
        },
        "tags": []
      },
      "source": [
        "def train(epochs, model, optimizer, criterion, scheduler, dataset_loader): \n",
        "\n",
        "    losses = []\n",
        "\n",
        "    for n_epoch in range(epochs):\n",
        "\n",
        "        try:\n",
        "\n",
        "            progress_bar = tqdm(total=len(dataset_loader.dataset), desc='Epoch {}'.format(n_epoch + 1))\n",
        "\n",
        "            for x, y in dataset_loader:\n",
        "\n",
        "                x = x.to('cuda')\n",
        "                y = y.to('cuda')\n",
        "                optimizer.zero_grad()\n",
        "                y_pred = model(x)\n",
        "                loss = criterion(y_pred, y)\n",
        "                loss.backward()  # считаем градиенты  \n",
        "                optimizer.step()\n",
        "                \n",
        "                \n",
        "                losses.append(loss.item())\n",
        "                \n",
        "                progress_bar.set_postfix(loss=np.mean(losses[-100:]))\n",
        "\n",
        "                progress_bar.update(x.shape[0])\n",
        "\n",
        "            scheduler.step()\n",
        "            progress_bar.close()\n",
        "\n",
        "        except KeyboardInterrupt:\n",
        "\n",
        "            progress_bar.close()\n",
        "            break\n",
        "    return model"
      ],
      "id": "b60644b9",
      "execution_count": null,
      "outputs": []
    },
    {
      "cell_type": "code",
      "metadata": {
        "execution": {
          "iopub.execute_input": "2021-11-21T11:28:22.987935Z",
          "iopub.status.busy": "2021-11-21T11:28:22.987068Z",
          "iopub.status.idle": "2021-11-21T11:36:00.206676Z",
          "shell.execute_reply": "2021-11-21T11:35:57.607077Z",
          "shell.execute_reply.started": "2021-11-21T10:33:52.995411Z"
        },
        "id": "c2b71299",
        "papermill": {
          "duration": 463.748433,
          "end_time": "2021-11-21T11:36:00.206837",
          "exception": false,
          "start_time": "2021-11-21T11:28:16.458404",
          "status": "completed"
        },
        "tags": [],
        "outputId": "cfe5e8c0-4428-4111-a75b-2feaab362c26"
      },
      "source": [
        "set_random_seed(142)\n",
        "model = train(epochs, model, optimizer, criterion, scheduler, dataset_loader)"
      ],
      "id": "c2b71299",
      "execution_count": null,
      "outputs": [
        {
          "name": "stderr",
          "output_type": "stream",
          "text": [
            "Epoch 1: 100%|██████████| 2983124/2983124 [00:44<00:00, 67678.58it/s, loss=8.09]\n",
            "Epoch 2: 100%|██████████| 2983124/2983124 [00:45<00:00, 65901.56it/s, loss=7.5]\n",
            "Epoch 3: 100%|██████████| 2983124/2983124 [00:43<00:00, 67882.11it/s, loss=7.3]\n",
            "Epoch 4: 100%|██████████| 2983124/2983124 [00:46<00:00, 64692.80it/s, loss=7.22]\n",
            "Epoch 5: 100%|██████████| 2983124/2983124 [00:44<00:00, 67528.49it/s, loss=7.19]\n",
            "Epoch 6: 100%|██████████| 2983124/2983124 [00:44<00:00, 67295.85it/s, loss=7.16]\n",
            "Epoch 7: 100%|██████████| 2983124/2983124 [00:45<00:00, 65510.86it/s, loss=7.14]\n",
            "Epoch 8: 100%|██████████| 2983124/2983124 [00:43<00:00, 68118.43it/s, loss=7.14]\n",
            "Epoch 9: 100%|██████████| 2983124/2983124 [00:43<00:00, 68417.01it/s, loss=7.13]\n",
            "Epoch 10: 100%|██████████| 2983124/2983124 [00:44<00:00, 67033.86it/s, loss=7.12]\n"
          ]
        }
      ]
    },
    {
      "cell_type": "code",
      "metadata": {
        "execution": {
          "iopub.execute_input": "2021-11-21T11:36:46.891040Z",
          "iopub.status.busy": "2021-11-21T11:36:46.889942Z",
          "iopub.status.idle": "2021-11-21T11:36:46.893576Z",
          "shell.execute_reply": "2021-11-21T11:36:46.893160Z",
          "shell.execute_reply.started": "2021-11-21T10:41:16.803761Z"
        },
        "id": "cffb41d3",
        "papermill": {
          "duration": 23.159455,
          "end_time": "2021-11-21T11:36:46.893696",
          "exception": false,
          "start_time": "2021-11-21T11:36:23.734241",
          "status": "completed"
        },
        "tags": []
      },
      "source": [
        "embedding_matrix = model.in_embedding.weight.detach().cpu()"
      ],
      "id": "cffb41d3",
      "execution_count": null,
      "outputs": []
    },
    {
      "cell_type": "code",
      "metadata": {
        "execution": {
          "iopub.execute_input": "2021-11-21T11:37:34.186857Z",
          "iopub.status.busy": "2021-11-21T11:37:34.186308Z",
          "iopub.status.idle": "2021-11-21T11:37:34.252120Z",
          "shell.execute_reply": "2021-11-21T11:37:34.251644Z",
          "shell.execute_reply.started": "2021-11-21T10:41:16.810891Z"
        },
        "id": "814d1fd9",
        "papermill": {
          "duration": 23.643457,
          "end_time": "2021-11-21T11:37:34.252276",
          "exception": false,
          "start_time": "2021-11-21T11:37:10.608819",
          "status": "completed"
        },
        "tags": [],
        "outputId": "8a1062b4-7621-4ce0-b600-bb548546b1ad"
      },
      "source": [
        "df['pred_score'] = df.apply(lambda x: \n",
        "                            cos_sim(embedding_matrix, word2index, \n",
        "                                    x['# Word1'], x['Word2']), axis=1)\n",
        "df['pred_score'] = scaler.fit_transform(df['pred_score'].to_numpy().reshape(-1, 1))\n",
        "mean_squared_error(df['Average Score'], df['pred_score'])"
      ],
      "id": "814d1fd9",
      "execution_count": null,
      "outputs": [
        {
          "data": {
            "text/plain": [
              "0.15553969858280411"
            ]
          },
          "execution_count": 91,
          "metadata": {},
          "output_type": "execute_result"
        }
      ]
    },
    {
      "cell_type": "markdown",
      "metadata": {
        "id": "0b9a3908",
        "papermill": {
          "duration": 23.613354,
          "end_time": "2021-11-21T11:38:21.149803",
          "exception": false,
          "start_time": "2021-11-21T11:37:57.536449",
          "status": "completed"
        },
        "tags": []
      },
      "source": [
        "Посмотрим на то, сколько слов мы не знаем"
      ],
      "id": "0b9a3908"
    },
    {
      "cell_type": "code",
      "metadata": {
        "execution": {
          "iopub.execute_input": "2021-11-21T11:39:08.239529Z",
          "iopub.status.busy": "2021-11-21T11:39:08.237902Z",
          "iopub.status.idle": "2021-11-21T11:39:08.241594Z",
          "shell.execute_reply": "2021-11-21T11:39:08.241139Z",
          "shell.execute_reply.started": "2021-11-21T10:41:16.886767Z"
        },
        "id": "8f4ffc8d",
        "papermill": {
          "duration": 23.517871,
          "end_time": "2021-11-21T11:39:08.241709",
          "exception": false,
          "start_time": "2021-11-21T11:38:44.723838",
          "status": "completed"
        },
        "tags": [],
        "outputId": "f4a5a135-25a6-42ba-e1ed-8e5db95c2ed2"
      },
      "source": [
        "len(set(df['# Word1'].tolist() + df['Word2'].tolist()) - set(word2index.keys()))"
      ],
      "id": "8f4ffc8d",
      "execution_count": null,
      "outputs": [
        {
          "data": {
            "text/plain": [
              "380"
            ]
          },
          "execution_count": 92,
          "metadata": {},
          "output_type": "execute_result"
        }
      ]
    },
    {
      "cell_type": "markdown",
      "metadata": {
        "id": "92a74a16",
        "papermill": {
          "duration": 23.661801,
          "end_time": "2021-11-21T11:39:55.139146",
          "exception": false,
          "start_time": "2021-11-21T11:39:31.477345",
          "status": "completed"
        },
        "tags": []
      },
      "source": [
        "Довольно много, проверим качество на тех, что есть в словаре"
      ],
      "id": "92a74a16"
    },
    {
      "cell_type": "code",
      "metadata": {
        "execution": {
          "iopub.execute_input": "2021-11-21T11:40:41.986630Z",
          "iopub.status.busy": "2021-11-21T11:40:41.985636Z",
          "iopub.status.idle": "2021-11-21T11:40:42.003008Z",
          "shell.execute_reply": "2021-11-21T11:40:42.002520Z",
          "shell.execute_reply.started": "2021-11-21T10:41:16.904315Z"
        },
        "id": "ee604776",
        "papermill": {
          "duration": 23.277584,
          "end_time": "2021-11-21T11:40:42.003148",
          "exception": false,
          "start_time": "2021-11-21T11:40:18.725564",
          "status": "completed"
        },
        "tags": []
      },
      "source": [
        "df_clean = df[df['# Word1'].isin(set(word2index.keys()))]\n",
        "df_clean = df_clean[df_clean['Word2'].isin(set(word2index.keys()))]"
      ],
      "id": "ee604776",
      "execution_count": null,
      "outputs": []
    },
    {
      "cell_type": "code",
      "metadata": {
        "execution": {
          "iopub.execute_input": "2021-11-21T11:41:29.507894Z",
          "iopub.status.busy": "2021-11-21T11:41:29.507236Z",
          "iopub.status.idle": "2021-11-21T11:41:29.510638Z",
          "shell.execute_reply": "2021-11-21T11:41:29.510223Z",
          "shell.execute_reply.started": "2021-11-21T10:41:16.929811Z"
        },
        "id": "f08267c7",
        "papermill": {
          "duration": 23.64947,
          "end_time": "2021-11-21T11:41:29.510756",
          "exception": false,
          "start_time": "2021-11-21T11:41:05.861286",
          "status": "completed"
        },
        "tags": [],
        "outputId": "8e5df05d-0a6d-4d56-e802-bd39ebf0c80f"
      },
      "source": [
        "df_clean"
      ],
      "id": "f08267c7",
      "execution_count": null,
      "outputs": [
        {
          "data": {
            "text/html": [
              "<div>\n",
              "<style scoped>\n",
              "    .dataframe tbody tr th:only-of-type {\n",
              "        vertical-align: middle;\n",
              "    }\n",
              "\n",
              "    .dataframe tbody tr th {\n",
              "        vertical-align: top;\n",
              "    }\n",
              "\n",
              "    .dataframe thead th {\n",
              "        text-align: right;\n",
              "    }\n",
              "</style>\n",
              "<table border=\"1\" class=\"dataframe\">\n",
              "  <thead>\n",
              "    <tr style=\"text-align: right;\">\n",
              "      <th></th>\n",
              "      <th># Word1</th>\n",
              "      <th>Word2</th>\n",
              "      <th>Average Score</th>\n",
              "      <th>pred_score</th>\n",
              "    </tr>\n",
              "  </thead>\n",
              "  <tbody>\n",
              "    <tr>\n",
              "      <th>1</th>\n",
              "      <td>август</td>\n",
              "      <td>месяц</td>\n",
              "      <td>0.285</td>\n",
              "      <td>0.458549</td>\n",
              "    </tr>\n",
              "    <tr>\n",
              "      <th>3</th>\n",
              "      <td>автомобиль</td>\n",
              "      <td>гудок</td>\n",
              "      <td>0.185</td>\n",
              "      <td>0.305018</td>\n",
              "    </tr>\n",
              "    <tr>\n",
              "      <th>5</th>\n",
              "      <td>автомобиль</td>\n",
              "      <td>такси</td>\n",
              "      <td>0.415</td>\n",
              "      <td>0.430969</td>\n",
              "    </tr>\n",
              "    <tr>\n",
              "      <th>7</th>\n",
              "      <td>автомобиль</td>\n",
              "      <td>велосипед</td>\n",
              "      <td>0.138</td>\n",
              "      <td>0.434953</td>\n",
              "    </tr>\n",
              "    <tr>\n",
              "      <th>9</th>\n",
              "      <td>автомобиль</td>\n",
              "      <td>мост</td>\n",
              "      <td>0.115</td>\n",
              "      <td>0.393347</td>\n",
              "    </tr>\n",
              "    <tr>\n",
              "      <th>...</th>\n",
              "      <td>...</td>\n",
              "      <td>...</td>\n",
              "      <td>...</td>\n",
              "      <td>...</td>\n",
              "    </tr>\n",
              "    <tr>\n",
              "      <th>952</th>\n",
              "      <td>юбилей</td>\n",
              "      <td>год</td>\n",
              "      <td>0.269</td>\n",
              "      <td>0.199344</td>\n",
              "    </tr>\n",
              "    <tr>\n",
              "      <th>953</th>\n",
              "      <td>юбилей</td>\n",
              "      <td>дата</td>\n",
              "      <td>0.662</td>\n",
              "      <td>0.141448</td>\n",
              "    </tr>\n",
              "    <tr>\n",
              "      <th>954</th>\n",
              "      <td>юг</td>\n",
              "      <td>север</td>\n",
              "      <td>0.000</td>\n",
              "      <td>0.136897</td>\n",
              "    </tr>\n",
              "    <tr>\n",
              "      <th>955</th>\n",
              "      <td>юрист</td>\n",
              "      <td>банкир</td>\n",
              "      <td>0.115</td>\n",
              "      <td>0.382302</td>\n",
              "    </tr>\n",
              "    <tr>\n",
              "      <th>962</th>\n",
              "      <td>язык</td>\n",
              "      <td>горло</td>\n",
              "      <td>0.138</td>\n",
              "      <td>0.537912</td>\n",
              "    </tr>\n",
              "  </tbody>\n",
              "</table>\n",
              "<p>498 rows × 4 columns</p>\n",
              "</div>"
            ],
            "text/plain": [
              "        # Word1      Word2  Average Score  pred_score\n",
              "1        август      месяц          0.285    0.458549\n",
              "3    автомобиль      гудок          0.185    0.305018\n",
              "5    автомобиль      такси          0.415    0.430969\n",
              "7    автомобиль  велосипед          0.138    0.434953\n",
              "9    автомобиль       мост          0.115    0.393347\n",
              "..          ...        ...            ...         ...\n",
              "952      юбилей        год          0.269    0.199344\n",
              "953      юбилей       дата          0.662    0.141448\n",
              "954          юг      север          0.000    0.136897\n",
              "955       юрист     банкир          0.115    0.382302\n",
              "962        язык      горло          0.138    0.537912\n",
              "\n",
              "[498 rows x 4 columns]"
            ]
          },
          "execution_count": 94,
          "metadata": {},
          "output_type": "execute_result"
        }
      ]
    },
    {
      "cell_type": "code",
      "metadata": {
        "execution": {
          "iopub.execute_input": "2021-11-21T11:42:16.290837Z",
          "iopub.status.busy": "2021-11-21T11:42:16.290116Z",
          "iopub.status.idle": "2021-11-21T11:42:16.292905Z",
          "shell.execute_reply": "2021-11-21T11:42:16.293310Z",
          "shell.execute_reply.started": "2021-11-21T10:41:16.946868Z"
        },
        "id": "acfab23f",
        "papermill": {
          "duration": 23.354404,
          "end_time": "2021-11-21T11:42:16.293447",
          "exception": false,
          "start_time": "2021-11-21T11:41:52.939043",
          "status": "completed"
        },
        "tags": [],
        "outputId": "8e5876ae-1a76-4e3c-c916-f0a1a76684b7"
      },
      "source": [
        "mean_squared_error(df_clean['Average Score'], df_clean['pred_score'])"
      ],
      "id": "acfab23f",
      "execution_count": null,
      "outputs": [
        {
          "data": {
            "text/plain": [
              "0.10100635380387421"
            ]
          },
          "execution_count": 95,
          "metadata": {},
          "output_type": "execute_result"
        }
      ]
    },
    {
      "cell_type": "markdown",
      "metadata": {
        "id": "57759c0e",
        "papermill": {
          "duration": 23.460295,
          "end_time": "2021-11-21T11:43:03.293762",
          "exception": false,
          "start_time": "2021-11-21T11:42:39.833467",
          "status": "completed"
        },
        "tags": []
      },
      "source": [
        "Стало сильно лучше, потому что нет этого предсказания токена UNK"
      ],
      "id": "57759c0e"
    },
    {
      "cell_type": "code",
      "metadata": {
        "execution": {
          "iopub.execute_input": "2021-11-21T11:43:50.447155Z",
          "iopub.status.busy": "2021-11-21T11:43:50.446207Z",
          "iopub.status.idle": "2021-11-21T11:43:50.448598Z",
          "shell.execute_reply": "2021-11-21T11:43:50.448071Z",
          "shell.execute_reply.started": "2021-11-21T10:41:16.95559Z"
        },
        "id": "f20b8006",
        "papermill": {
          "duration": 24.045914,
          "end_time": "2021-11-21T11:43:50.448716",
          "exception": false,
          "start_time": "2021-11-21T11:43:26.402802",
          "status": "completed"
        },
        "tags": []
      },
      "source": [
        "import re"
      ],
      "id": "f20b8006",
      "execution_count": null,
      "outputs": []
    },
    {
      "cell_type": "code",
      "metadata": {
        "execution": {
          "iopub.execute_input": "2021-11-21T11:44:37.609189Z",
          "iopub.status.busy": "2021-11-21T11:44:37.608201Z",
          "iopub.status.idle": "2021-11-21T11:44:37.610144Z",
          "shell.execute_reply": "2021-11-21T11:44:37.610656Z",
          "shell.execute_reply.started": "2021-11-21T10:41:16.962863Z"
        },
        "id": "5312bd39",
        "papermill": {
          "duration": 23.737555,
          "end_time": "2021-11-21T11:44:37.610835",
          "exception": false,
          "start_time": "2021-11-21T11:44:13.873280",
          "status": "completed"
        },
        "tags": []
      },
      "source": [
        "for i in df['Word2'].tolist():\n",
        "    if 'ё' in i:\n",
        "        print(i)"
      ],
      "id": "5312bd39",
      "execution_count": null,
      "outputs": []
    },
    {
      "cell_type": "markdown",
      "metadata": {
        "id": "5d343142",
        "papermill": {
          "duration": 23.600963,
          "end_time": "2021-11-21T11:45:24.413573",
          "exception": false,
          "start_time": "2021-11-21T11:45:00.812610",
          "status": "completed"
        },
        "tags": []
      },
      "source": [
        "Но при этом в данных есть слова ковер, клен, утес и т.п. Давайте заодно уберем ё и в трейне"
      ],
      "id": "5d343142"
    },
    {
      "cell_type": "code",
      "metadata": {
        "execution": {
          "iopub.execute_input": "2021-11-21T11:46:11.459328Z",
          "iopub.status.busy": "2021-11-21T11:46:11.458447Z",
          "iopub.status.idle": "2021-11-21T11:46:12.765405Z",
          "shell.execute_reply": "2021-11-21T11:46:12.765997Z",
          "shell.execute_reply.started": "2021-11-21T10:41:16.972656Z"
        },
        "id": "f2fd68bb",
        "papermill": {
          "duration": 24.618192,
          "end_time": "2021-11-21T11:46:12.766210",
          "exception": false,
          "start_time": "2021-11-21T11:45:48.148018",
          "status": "completed"
        },
        "tags": []
      },
      "source": [
        "cleaned_corpus = []\n",
        "for c in corpus:\n",
        "    sent = ' '.join(c)\n",
        "    sent_clean = re.sub('[#a-z]+', '', sent)\n",
        "    cleaned_corpus.append(re.sub('ё', 'е', sent_clean).split())"
      ],
      "id": "f2fd68bb",
      "execution_count": null,
      "outputs": []
    },
    {
      "cell_type": "code",
      "metadata": {
        "execution": {
          "iopub.execute_input": "2021-11-21T11:46:59.939961Z",
          "iopub.status.busy": "2021-11-21T11:46:59.938400Z",
          "iopub.status.idle": "2021-11-21T11:46:59.942158Z",
          "shell.execute_reply": "2021-11-21T11:46:59.941679Z",
          "shell.execute_reply.started": "2021-11-21T10:41:18.014487Z"
        },
        "id": "19205c06",
        "papermill": {
          "duration": 23.538628,
          "end_time": "2021-11-21T11:46:59.942277",
          "exception": false,
          "start_time": "2021-11-21T11:46:36.403649",
          "status": "completed"
        },
        "tags": [],
        "outputId": "ee3f33c5-42f0-4f31-e91a-f2a4235ad9d1"
      },
      "source": [
        "cleaned_corpus[:5]"
      ],
      "id": "19205c06",
      "execution_count": null,
      "outputs": [
        {
          "data": {
            "text/plain": [
              "[['второй',\n",
              "  'UNK',\n",
              "  'год',\n",
              "  'окончательно',\n",
              "  'разочаровать',\n",
              "  'решить',\n",
              "  'податься',\n",
              "  'альфабанк'],\n",
              " ['вернуть',\n",
              "  'денежный',\n",
              "  'средство',\n",
              "  'лицевой',\n",
              "  'счет',\n",
              "  'либо',\n",
              "  'зачесть',\n",
              "  'счет',\n",
              "  'погашение',\n",
              "  'кредит'],\n",
              " ['притом', 'ситуация', 'решиться', 'участие', 'течение', 'сутки', 'заявить'],\n",
              " ['мой',\n",
              "  'число',\n",
              "  'летний',\n",
              "  'жизнь',\n",
              "  'это',\n",
              "  'самый',\n",
              "  'неповоротливый',\n",
              "  'работник',\n",
              "  'банк',\n",
              "  'который',\n",
              "  'видеть'],\n",
              " ['везде', 'написать', 'вклад', 'принимать', 'очередь', 'это']]"
            ]
          },
          "execution_count": 99,
          "metadata": {},
          "output_type": "execute_result"
        }
      ]
    },
    {
      "cell_type": "code",
      "metadata": {
        "execution": {
          "iopub.execute_input": "2021-11-21T11:47:47.221592Z",
          "iopub.status.busy": "2021-11-21T11:47:47.216537Z",
          "iopub.status.idle": "2021-11-21T11:47:49.961700Z",
          "shell.execute_reply": "2021-11-21T11:47:49.962166Z",
          "shell.execute_reply.started": "2021-11-21T10:41:18.023668Z"
        },
        "id": "3468a152",
        "papermill": {
          "duration": 26.178827,
          "end_time": "2021-11-21T11:47:49.962320",
          "exception": false,
          "start_time": "2021-11-21T11:47:23.783493",
          "status": "completed"
        },
        "tags": [],
        "outputId": "40af1753-b392-4ff8-c361-e702a71be6e9"
      },
      "source": [
        "word2index = {}\n",
        "\n",
        "for text in cleaned_corpus:\n",
        "    for token in text:\n",
        "        if token not in word2index:\n",
        "            word2index[token] = len(word2index)\n",
        "dataset = SkipgramDataset(cleaned_corpus, word2index)"
      ],
      "id": "3468a152",
      "execution_count": null,
      "outputs": [
        {
          "name": "stderr",
          "output_type": "stream",
          "text": [
            "100%|██████████| 100000/100000 [00:02<00:00, 38244.04it/s]\n"
          ]
        }
      ]
    },
    {
      "cell_type": "code",
      "metadata": {
        "execution": {
          "iopub.execute_input": "2021-11-21T11:48:37.414304Z",
          "iopub.status.busy": "2021-11-21T11:48:37.413359Z",
          "iopub.status.idle": "2021-11-21T11:48:37.415057Z",
          "shell.execute_reply": "2021-11-21T11:48:37.415560Z",
          "shell.execute_reply.started": "2021-11-21T10:41:21.085636Z"
        },
        "id": "cc033418",
        "papermill": {
          "duration": 23.5987,
          "end_time": "2021-11-21T11:48:37.415706",
          "exception": false,
          "start_time": "2021-11-21T11:48:13.817006",
          "status": "completed"
        },
        "tags": []
      },
      "source": [
        "set_random_seed(42)\n",
        "BATCH_SIZE = 512\n",
        "dataset_loader = DataLoader(dataset, shuffle=True, batch_size=BATCH_SIZE)"
      ],
      "id": "cc033418",
      "execution_count": null,
      "outputs": []
    },
    {
      "cell_type": "code",
      "metadata": {
        "execution": {
          "iopub.execute_input": "2021-11-21T11:49:24.311076Z",
          "iopub.status.busy": "2021-11-21T11:49:24.310298Z",
          "iopub.status.idle": "2021-11-21T11:49:24.322659Z",
          "shell.execute_reply": "2021-11-21T11:49:24.322142Z",
          "shell.execute_reply.started": "2021-11-21T10:41:21.167417Z"
        },
        "id": "749bf158",
        "papermill": {
          "duration": 23.088868,
          "end_time": "2021-11-21T11:49:24.322789",
          "exception": false,
          "start_time": "2021-11-21T11:49:01.233921",
          "status": "completed"
        },
        "tags": []
      },
      "source": [
        "EMBEDDING_DIM = 40\n",
        "model = SkipGram(vocab_size=len(word2index), embedding_dim=EMBEDDING_DIM).to('cuda')\n",
        "optimizer = torch.optim.Adam(params=model.parameters(), lr=0.00015)\n",
        "criterion = torch.nn.CrossEntropyLoss()\n",
        "scheduler = ExponentialLR(optimizer, gamma=0.7)\n",
        "epochs = 10"
      ],
      "id": "749bf158",
      "execution_count": null,
      "outputs": []
    },
    {
      "cell_type": "code",
      "metadata": {
        "execution": {
          "iopub.execute_input": "2021-11-21T11:50:11.308079Z",
          "iopub.status.busy": "2021-11-21T11:50:11.307208Z",
          "iopub.status.idle": "2021-11-21T11:57:29.255212Z",
          "shell.execute_reply": "2021-11-21T11:57:29.254554Z",
          "shell.execute_reply.started": "2021-11-21T10:41:21.18819Z"
        },
        "id": "da0abc32",
        "papermill": {
          "duration": 461.541,
          "end_time": "2021-11-21T11:57:29.255362",
          "exception": false,
          "start_time": "2021-11-21T11:49:47.714362",
          "status": "completed"
        },
        "tags": [],
        "outputId": "87af9420-a1e5-4e48-8f33-c3a5d56479fc"
      },
      "source": [
        "set_random_seed(142)\n",
        "model = train(epochs, model, optimizer, criterion, scheduler, dataset_loader)"
      ],
      "id": "da0abc32",
      "execution_count": null,
      "outputs": [
        {
          "name": "stderr",
          "output_type": "stream",
          "text": [
            "Epoch 1: 100%|██████████| 2965042/2965042 [00:43<00:00, 68497.93it/s, loss=8]\n",
            "Epoch 2: 100%|██████████| 2965042/2965042 [00:43<00:00, 68220.72it/s, loss=7.43]\n",
            "Epoch 3: 100%|██████████| 2965042/2965042 [00:43<00:00, 67937.62it/s, loss=7.26]\n",
            "Epoch 4: 100%|██████████| 2965042/2965042 [00:43<00:00, 67895.05it/s, loss=7.19]\n",
            "Epoch 5: 100%|██████████| 2965042/2965042 [00:43<00:00, 68676.85it/s, loss=7.15]\n",
            "Epoch 6: 100%|██████████| 2965042/2965042 [00:44<00:00, 66778.27it/s, loss=7.13]\n",
            "Epoch 7: 100%|██████████| 2965042/2965042 [00:45<00:00, 64680.91it/s, loss=7.11]\n",
            "Epoch 8: 100%|██████████| 2965042/2965042 [00:43<00:00, 67860.36it/s, loss=7.1]\n",
            "Epoch 9: 100%|██████████| 2965042/2965042 [00:43<00:00, 68356.85it/s, loss=7.07]\n",
            "Epoch 10: 100%|██████████| 2965042/2965042 [00:43<00:00, 68383.82it/s, loss=7.09]\n"
          ]
        }
      ]
    },
    {
      "cell_type": "code",
      "metadata": {
        "execution": {
          "iopub.execute_input": "2021-11-21T11:58:49.330102Z",
          "iopub.status.busy": "2021-11-21T11:58:49.329002Z",
          "iopub.status.idle": "2021-11-21T11:58:49.331992Z",
          "shell.execute_reply": "2021-11-21T11:58:49.332408Z",
          "shell.execute_reply.started": "2021-11-21T10:48:37.13164Z"
        },
        "id": "9aafd8f2",
        "papermill": {
          "duration": 39.7884,
          "end_time": "2021-11-21T11:58:49.332555",
          "exception": false,
          "start_time": "2021-11-21T11:58:09.544155",
          "status": "completed"
        },
        "tags": []
      },
      "source": [
        "embedding_matrix = model.in_embedding.weight.detach().cpu()"
      ],
      "id": "9aafd8f2",
      "execution_count": null,
      "outputs": []
    },
    {
      "cell_type": "code",
      "metadata": {
        "execution": {
          "iopub.execute_input": "2021-11-21T12:00:09.910936Z",
          "iopub.status.busy": "2021-11-21T12:00:09.909960Z",
          "iopub.status.idle": "2021-11-21T12:00:09.972169Z",
          "shell.execute_reply": "2021-11-21T12:00:09.972590Z",
          "shell.execute_reply.started": "2021-11-21T10:48:37.137263Z"
        },
        "id": "81b58a52",
        "papermill": {
          "duration": 40.310042,
          "end_time": "2021-11-21T12:00:09.972734",
          "exception": false,
          "start_time": "2021-11-21T11:59:29.662692",
          "status": "completed"
        },
        "tags": [],
        "outputId": "89eab818-fa4a-4e7a-ddec-8a4eb26e6530"
      },
      "source": [
        "df['pred_score'] = df.apply(lambda x: \n",
        "                            cos_sim(embedding_matrix, word2index, \n",
        "                                    x['# Word1'], x['Word2']), axis=1)\n",
        "df['pred_score'] = scaler.fit_transform(df['pred_score'].to_numpy().reshape(-1, 1))\n",
        "mean_squared_error(df['Average Score'], df['pred_score'])"
      ],
      "id": "81b58a52",
      "execution_count": null,
      "outputs": [
        {
          "data": {
            "text/plain": [
              "0.1518137164805878"
            ]
          },
          "execution_count": 105,
          "metadata": {},
          "output_type": "execute_result"
        }
      ]
    },
    {
      "cell_type": "markdown",
      "metadata": {
        "id": "6a5485e6",
        "papermill": {
          "duration": 40.080861,
          "end_time": "2021-11-21T12:01:30.026062",
          "exception": false,
          "start_time": "2021-11-21T12:00:49.945201",
          "status": "completed"
        },
        "tags": []
      },
      "source": [
        "И на чистых данных"
      ],
      "id": "6a5485e6"
    },
    {
      "cell_type": "code",
      "metadata": {
        "execution": {
          "iopub.execute_input": "2021-11-21T12:02:50.511427Z",
          "iopub.status.busy": "2021-11-21T12:02:50.506901Z",
          "iopub.status.idle": "2021-11-21T12:02:50.520891Z",
          "shell.execute_reply": "2021-11-21T12:02:50.521293Z",
          "shell.execute_reply.started": "2021-11-21T10:48:37.208624Z"
        },
        "id": "c5d851c1",
        "papermill": {
          "duration": 40.036708,
          "end_time": "2021-11-21T12:02:50.521446",
          "exception": false,
          "start_time": "2021-11-21T12:02:10.484738",
          "status": "completed"
        },
        "tags": []
      },
      "source": [
        "df_clean = df[df['# Word1'].isin(set(word2index.keys()))]\n",
        "df_clean = df_clean[df_clean['Word2'].isin(set(word2index.keys()))]"
      ],
      "id": "c5d851c1",
      "execution_count": null,
      "outputs": []
    },
    {
      "cell_type": "code",
      "metadata": {
        "execution": {
          "iopub.execute_input": "2021-11-21T12:04:10.764069Z",
          "iopub.status.busy": "2021-11-21T12:04:10.763309Z",
          "iopub.status.idle": "2021-11-21T12:04:10.766446Z",
          "shell.execute_reply": "2021-11-21T12:04:10.766932Z",
          "shell.execute_reply.started": "2021-11-21T10:48:37.22974Z"
        },
        "id": "f20d79be",
        "papermill": {
          "duration": 40.094141,
          "end_time": "2021-11-21T12:04:10.767082",
          "exception": false,
          "start_time": "2021-11-21T12:03:30.672941",
          "status": "completed"
        },
        "tags": [],
        "outputId": "d292924c-13be-4aaf-f78e-71c9d37303f2"
      },
      "source": [
        "mean_squared_error(df_clean['Average Score'], df_clean['pred_score'])"
      ],
      "id": "f20d79be",
      "execution_count": null,
      "outputs": [
        {
          "data": {
            "text/plain": [
              "0.09824513555587679"
            ]
          },
          "execution_count": 107,
          "metadata": {},
          "output_type": "execute_result"
        }
      ]
    },
    {
      "cell_type": "markdown",
      "metadata": {
        "id": "9bbc999f",
        "papermill": {
          "duration": 40.841757,
          "end_time": "2021-11-21T12:05:31.353436",
          "exception": false,
          "start_time": "2021-11-21T12:04:50.511679",
          "status": "completed"
        },
        "tags": []
      },
      "source": [
        "Возьмем другой оптимизатор, тут говорят что Адам плох для w2v: https://west.uni-koblenz.de/assets/theses/evaluation-model-hyperparameter-choices-word2vec.pdf "
      ],
      "id": "9bbc999f"
    },
    {
      "cell_type": "code",
      "metadata": {
        "execution": {
          "iopub.execute_input": "2021-11-21T12:06:51.576434Z",
          "iopub.status.busy": "2021-11-21T12:06:51.575697Z",
          "iopub.status.idle": "2021-11-21T12:06:51.588265Z",
          "shell.execute_reply": "2021-11-21T12:06:51.587807Z",
          "shell.execute_reply.started": "2021-11-21T10:48:37.243518Z"
        },
        "id": "14f7466b",
        "papermill": {
          "duration": 40.239504,
          "end_time": "2021-11-21T12:06:51.588383",
          "exception": false,
          "start_time": "2021-11-21T12:06:11.348879",
          "status": "completed"
        },
        "tags": []
      },
      "source": [
        "EMBEDDING_DIM = 40\n",
        "model = SkipGram(vocab_size=len(word2index), embedding_dim=EMBEDDING_DIM).to('cuda')\n",
        "optimizer = torch.optim.SGD(params=model.parameters(), lr=0.1, momentum=0.9) #, weight_decay=1e-4)\n",
        "criterion = torch.nn.CrossEntropyLoss()\n",
        "scheduler = ExponentialLR(optimizer, gamma=0.9)\n",
        "epochs = 15"
      ],
      "id": "14f7466b",
      "execution_count": null,
      "outputs": []
    },
    {
      "cell_type": "code",
      "metadata": {
        "execution": {
          "iopub.execute_input": "2021-11-21T12:08:12.178161Z",
          "iopub.status.busy": "2021-11-21T12:08:12.177106Z",
          "iopub.status.idle": "2021-11-21T12:18:59.942688Z",
          "shell.execute_reply": "2021-11-21T12:18:59.943121Z",
          "shell.execute_reply.started": "2021-11-21T10:48:37.260866Z"
        },
        "id": "46998585",
        "papermill": {
          "duration": 688.491288,
          "end_time": "2021-11-21T12:18:59.943282",
          "exception": false,
          "start_time": "2021-11-21T12:07:31.451994",
          "status": "completed"
        },
        "tags": [],
        "outputId": "95dbabe6-55cf-4b91-e18a-2c9887b0df69"
      },
      "source": [
        "set_random_seed(142)\n",
        "model = train(epochs, model, optimizer, criterion, scheduler, dataset_loader)"
      ],
      "id": "46998585",
      "execution_count": null,
      "outputs": [
        {
          "name": "stderr",
          "output_type": "stream",
          "text": [
            "Epoch 1: 100%|██████████| 2965042/2965042 [00:42<00:00, 69362.75it/s, loss=7.53]\n",
            "Epoch 2: 100%|██████████| 2965042/2965042 [00:42<00:00, 69210.10it/s, loss=7.25]\n",
            "Epoch 3: 100%|██████████| 2965042/2965042 [00:42<00:00, 69896.56it/s, loss=7.14]\n",
            "Epoch 4: 100%|██████████| 2965042/2965042 [00:43<00:00, 68278.05it/s, loss=7.08]\n",
            "Epoch 5: 100%|██████████| 2965042/2965042 [00:42<00:00, 69353.69it/s, loss=7.04]\n",
            "Epoch 6: 100%|██████████| 2965042/2965042 [00:43<00:00, 67627.78it/s, loss=7]\n",
            "Epoch 7: 100%|██████████| 2965042/2965042 [00:45<00:00, 65491.32it/s, loss=6.98]\n",
            "Epoch 8: 100%|██████████| 2965042/2965042 [00:44<00:00, 66103.47it/s, loss=6.97]\n",
            "Epoch 9: 100%|██████████| 2965042/2965042 [00:42<00:00, 69355.19it/s, loss=6.92]\n",
            "Epoch 10: 100%|██████████| 2965042/2965042 [00:42<00:00, 69367.01it/s, loss=6.94]\n",
            "Epoch 11: 100%|██████████| 2965042/2965042 [00:42<00:00, 69919.33it/s, loss=6.92]\n",
            "Epoch 12: 100%|██████████| 2965042/2965042 [00:42<00:00, 69368.20it/s, loss=6.91]\n",
            "Epoch 13: 100%|██████████| 2965042/2965042 [00:42<00:00, 69446.25it/s, loss=6.89]\n",
            "Epoch 14: 100%|██████████| 2965042/2965042 [00:43<00:00, 68748.51it/s, loss=6.88]\n",
            "Epoch 15: 100%|██████████| 2965042/2965042 [00:43<00:00, 68826.86it/s, loss=6.87]\n"
          ]
        }
      ]
    },
    {
      "cell_type": "code",
      "metadata": {
        "execution": {
          "iopub.execute_input": "2021-11-21T12:21:10.364885Z",
          "iopub.status.busy": "2021-11-21T12:21:10.363918Z",
          "iopub.status.idle": "2021-11-21T12:21:10.367262Z",
          "shell.execute_reply": "2021-11-21T12:21:10.367639Z",
          "shell.execute_reply.started": "2021-11-21T10:59:26.276938Z"
        },
        "id": "2333a729",
        "papermill": {
          "duration": 65.110224,
          "end_time": "2021-11-21T12:21:10.367800",
          "exception": false,
          "start_time": "2021-11-21T12:20:05.257576",
          "status": "completed"
        },
        "tags": []
      },
      "source": [
        "embedding_matrix = model.in_embedding.weight.detach().cpu()"
      ],
      "id": "2333a729",
      "execution_count": null,
      "outputs": []
    },
    {
      "cell_type": "code",
      "metadata": {
        "execution": {
          "iopub.execute_input": "2021-11-21T12:23:20.645915Z",
          "iopub.status.busy": "2021-11-21T12:23:20.644951Z",
          "iopub.status.idle": "2021-11-21T12:23:20.715673Z",
          "shell.execute_reply": "2021-11-21T12:23:20.715182Z",
          "shell.execute_reply.started": "2021-11-21T10:59:26.282957Z"
        },
        "id": "9f5ee0ea",
        "papermill": {
          "duration": 65.221522,
          "end_time": "2021-11-21T12:23:20.715829",
          "exception": false,
          "start_time": "2021-11-21T12:22:15.494307",
          "status": "completed"
        },
        "tags": [],
        "outputId": "89bf9307-9466-4faa-a4b8-88e2aa43a0d1"
      },
      "source": [
        "df['pred_score'] = df.apply(lambda x: \n",
        "                            cos_sim(embedding_matrix, word2index, \n",
        "                                    x['# Word1'], x['Word2']), axis=1)\n",
        "df['pred_score'] = scaler.fit_transform(df['pred_score'].to_numpy().reshape(-1, 1))\n",
        "mean_squared_error(df['Average Score'], df['pred_score'])"
      ],
      "id": "9f5ee0ea",
      "execution_count": null,
      "outputs": [
        {
          "data": {
            "text/plain": [
              "0.1518848350988278"
            ]
          },
          "execution_count": 111,
          "metadata": {},
          "output_type": "execute_result"
        }
      ]
    },
    {
      "cell_type": "markdown",
      "metadata": {
        "id": "f6eff0ad"
      },
      "source": [
        "Кажется, что лучше все-таки не становится. Попробуем увеличить число эпох и взять больший размер эмбеддинга"
      ],
      "id": "f6eff0ad"
    },
    {
      "cell_type": "code",
      "metadata": {
        "execution": {
          "iopub.execute_input": "2021-11-21T12:27:41.075180Z",
          "iopub.status.busy": "2021-11-21T12:27:41.074382Z",
          "iopub.status.idle": "2021-11-21T12:27:41.087421Z",
          "shell.execute_reply": "2021-11-21T12:27:41.086951Z",
          "shell.execute_reply.started": "2021-11-21T10:59:26.355248Z"
        },
        "id": "fcc898b5",
        "papermill": {
          "duration": 65.100275,
          "end_time": "2021-11-21T12:27:41.087541",
          "exception": false,
          "start_time": "2021-11-21T12:26:35.987266",
          "status": "completed"
        },
        "tags": []
      },
      "source": [
        "EMBEDDING_DIM = 50\n",
        "model = SkipGram(vocab_size=len(word2index), embedding_dim=EMBEDDING_DIM).to('cuda')\n",
        "optimizer = torch.optim.SGD(params=model.parameters(), lr=0.1, momentum=0.9) #, weight_decay=1e-4)\n",
        "criterion = torch.nn.CrossEntropyLoss()\n",
        "scheduler = ExponentialLR(optimizer, gamma=0.9)\n",
        "epochs = 20"
      ],
      "id": "fcc898b5",
      "execution_count": null,
      "outputs": []
    },
    {
      "cell_type": "code",
      "metadata": {
        "execution": {
          "iopub.execute_input": "2021-11-21T12:29:51.239900Z",
          "iopub.status.busy": "2021-11-21T12:29:51.239016Z",
          "iopub.status.idle": "2021-11-21T12:44:31.822079Z",
          "shell.execute_reply": "2021-11-21T12:44:31.821590Z"
        },
        "id": "3f2d93f5",
        "papermill": {
          "duration": 945.715465,
          "end_time": "2021-11-21T12:44:31.822213",
          "exception": false,
          "start_time": "2021-11-21T12:28:46.106748",
          "status": "completed"
        },
        "tags": [],
        "outputId": "cbd4e6a7-f4b7-45f3-f2de-addcfe03691f"
      },
      "source": [
        "set_random_seed(142)\n",
        "model = train(epochs, model, optimizer, criterion, scheduler, dataset_loader)"
      ],
      "id": "3f2d93f5",
      "execution_count": null,
      "outputs": [
        {
          "name": "stderr",
          "output_type": "stream",
          "text": [
            "Epoch 1: 100%|██████████| 2965042/2965042 [00:43<00:00, 67443.49it/s, loss=7.51]\n",
            "Epoch 2: 100%|██████████| 2965042/2965042 [00:44<00:00, 66821.40it/s, loss=7.24]\n",
            "Epoch 3: 100%|██████████| 2965042/2965042 [00:43<00:00, 68073.16it/s, loss=7.12]\n",
            "Epoch 4: 100%|██████████| 2965042/2965042 [00:43<00:00, 68012.09it/s, loss=7.06]\n",
            "Epoch 5: 100%|██████████| 2965042/2965042 [00:43<00:00, 67890.81it/s, loss=7.01]\n",
            "Epoch 6: 100%|██████████| 2965042/2965042 [00:43<00:00, 67940.70it/s, loss=6.98]\n",
            "Epoch 7: 100%|██████████| 2965042/2965042 [00:44<00:00, 67313.00it/s, loss=6.97]\n",
            "Epoch 8: 100%|██████████| 2965042/2965042 [00:43<00:00, 68553.38it/s, loss=6.94]\n",
            "Epoch 9: 100%|██████████| 2965042/2965042 [00:43<00:00, 67442.62it/s, loss=6.9]\n",
            "Epoch 10: 100%|██████████| 2965042/2965042 [00:43<00:00, 67799.52it/s, loss=6.91]\n",
            "Epoch 11: 100%|██████████| 2965042/2965042 [00:43<00:00, 67513.75it/s, loss=6.89]\n",
            "Epoch 12: 100%|██████████| 2965042/2965042 [00:46<00:00, 64052.16it/s, loss=6.87]\n",
            "Epoch 13: 100%|██████████| 2965042/2965042 [00:45<00:00, 65327.97it/s, loss=6.86]\n",
            "Epoch 15: 100%|██████████| 2965042/2965042 [00:45<00:00, 64990.08it/s, loss=6.85]\n",
            "Epoch 16: 100%|██████████| 2965042/2965042 [00:43<00:00, 67888.44it/s, loss=6.86]\n",
            "Epoch 17: 100%|██████████| 2965042/2965042 [00:43<00:00, 68220.66it/s, loss=6.84]\n",
            "Epoch 18: 100%|██████████| 2965042/2965042 [00:43<00:00, 68178.95it/s, loss=6.85]\n",
            "Epoch 19: 100%|██████████| 2965042/2965042 [00:42<00:00, 69072.06it/s, loss=6.85]\n",
            "Epoch 20: 100%|██████████| 2965042/2965042 [00:43<00:00, 68476.74it/s, loss=6.84]\n"
          ]
        }
      ]
    },
    {
      "cell_type": "code",
      "metadata": {
        "execution": {
          "iopub.execute_input": "2021-11-21T12:47:45.945231Z",
          "iopub.status.busy": "2021-11-21T12:47:45.944540Z",
          "iopub.status.idle": "2021-11-21T12:47:45.948017Z",
          "shell.execute_reply": "2021-11-21T12:47:45.947568Z"
        },
        "id": "f23e29a1",
        "papermill": {
          "duration": 97.31324,
          "end_time": "2021-11-21T12:47:45.948150",
          "exception": false,
          "start_time": "2021-11-21T12:46:08.634910",
          "status": "completed"
        },
        "tags": []
      },
      "source": [
        "embedding_matrix = model.in_embedding.weight.detach().cpu()"
      ],
      "id": "f23e29a1",
      "execution_count": null,
      "outputs": []
    },
    {
      "cell_type": "code",
      "metadata": {
        "execution": {
          "iopub.execute_input": "2021-11-21T12:50:59.660466Z",
          "iopub.status.busy": "2021-11-21T12:50:59.659487Z",
          "iopub.status.idle": "2021-11-21T12:50:59.726324Z",
          "shell.execute_reply": "2021-11-21T12:50:59.725837Z"
        },
        "id": "71e420de",
        "papermill": {
          "duration": 97.2281,
          "end_time": "2021-11-21T12:50:59.726454",
          "exception": false,
          "start_time": "2021-11-21T12:49:22.498354",
          "status": "completed"
        },
        "tags": [],
        "outputId": "89bf9307-9466-4faa-a4b8-88e2aa43a0d1"
      },
      "source": [
        "df['pred_score'] = df.apply(lambda x: \n",
        "                            cos_sim(embedding_matrix, word2index, \n",
        "                                    x['# Word1'], x['Word2']), axis=1)\n",
        "df['pred_score'] = scaler.fit_transform(df['pred_score'].to_numpy().reshape(-1, 1))\n",
        "mean_squared_error(df['Average Score'], df['pred_score'])"
      ],
      "id": "71e420de",
      "execution_count": null,
      "outputs": [
        {
          "data": {
            "text/plain": [
              "0.15194287665751072"
            ]
          },
          "execution_count": 115,
          "metadata": {},
          "output_type": "execute_result"
        }
      ]
    },
    {
      "cell_type": "markdown",
      "metadata": {
        "id": "b62624bf"
      },
      "source": [
        "Лучшим результатом все-таки остается вариант с адамом, шедулером и немгого почищенным корпусом"
      ],
      "id": "b62624bf"
    },
    {
      "cell_type": "code",
      "metadata": {
        "id": "a5d43d7b",
        "papermill": {
          "duration": 95.832224,
          "end_time": "2021-11-21T12:54:12.454225",
          "exception": false,
          "start_time": "2021-11-21T12:52:36.622001",
          "status": "completed"
        },
        "tags": []
      },
      "source": [
        ""
      ],
      "id": "a5d43d7b",
      "execution_count": null,
      "outputs": []
    }
  ]
}